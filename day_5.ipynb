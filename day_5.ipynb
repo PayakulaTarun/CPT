{
 "cells": [
  {
   "cell_type": "markdown",
   "id": "14b3b3eb",
   "metadata": {},
   "source": [
    "DAY-5"
   ]
  },
  {
   "cell_type": "code",
   "execution_count": 6,
   "id": "86802160",
   "metadata": {},
   "outputs": [
    {
     "name": "stdout",
     "output_type": "stream",
     "text": [
      "Base Class-2\n",
      "Base Class-1\n",
      "Derived Class from both classes\n"
     ]
    }
   ],
   "source": [
    "class base1(object):\n",
    "    def __init__(self):\n",
    "        super(base1, self).__init__()\n",
    "        print(\"Base Class-1\")\n",
    "class base2(object):\n",
    "    def __init__(self):\n",
    "        super(base2, self).__init__()\n",
    "        print(\"Base Class-2\")\n",
    "class derived(base1, base2):\n",
    "    def __init__(self):\n",
    "        super(derived, self).__init__()\n",
    "        print(\"Derived Class from both classes\")\n",
    "d = derived()"
   ]
  },
  {
   "cell_type": "code",
   "execution_count": 9,
   "id": "b4b17351",
   "metadata": {},
   "outputs": [
    {
     "data": {
      "text/plain": [
       "'initial classes addition, multiplication, and division in a calculator and pass the values from main program to the super class, where the subclasses addition, subtraction, multiplication, and division were triggered and return the outputs respectively.\\n1. take derived class as calc\\n2. from derived class call subclass add and mul\\n3. return the values after math to the object\\n4. manual values of f both numbers considered within the obj'"
      ]
     },
     "execution_count": 9,
     "metadata": {},
     "output_type": "execute_result"
    }
   ],
   "source": [
    "\"\"\"initial classes addition, multiplication, and division in a calculator and pass the values from main program to the super class, where the subclasses addition, subtraction, multiplication, and division were triggered and return the outputs respectively.\n",
    "1. take derived class as calc\n",
    "2. from derived class call subclass add and mul\n",
    "3. return the values after math to the object\n",
    "4. manual values of f both numbers considered within the obj\"\"\"\n"
   ]
  },
  {
   "cell_type": "code",
   "execution_count": 11,
   "id": "2f5c8af2",
   "metadata": {},
   "outputs": [
    {
     "name": "stdout",
     "output_type": "stream",
     "text": [
      "Results from Calc:\n",
      "Addition: 79\n",
      "Multiplication: 1530\n"
     ]
    }
   ],
   "source": [
    "class Operation:\n",
    "    def __init__(self, a, b):\n",
    "        self.a = a\n",
    "        self.b = b\n",
    "class Add(Operation):\n",
    "    def calculate(self):\n",
    "        return self.a + self.b\n",
    "class Sub(Operation):\n",
    "    def calculate(self):\n",
    "        return self.a - self.b\n",
    "class Mul(Operation):\n",
    "    def calculate(self):\n",
    "        return self.a * self.b\n",
    "class Div(Operation):\n",
    "    def calculate(self):\n",
    "        if self.b != 0:\n",
    "            return self.a / self.b\n",
    "        else:\n",
    "            return \"Division by zero error\"\n",
    "class Calc:\n",
    "    def __init__(self):\n",
    "        self.num1 = int(input(\"Enter first number: \"))\n",
    "        self.num2 = int(input(\"Enter second number: \"))\n",
    "        self.add_result = Add(self.num1, self.num2).calculate()\n",
    "        self.mul_result = Mul(self.num1, self.num2).calculate()\n",
    "\n",
    "    def get_results(self):\n",
    "        return {\n",
    "            \"Addition\": self.add_result,\n",
    "            \"Multiplication\": self.mul_result\n",
    "        }\n",
    "if __name__ == \"__main__\":\n",
    "    obj = Calc()\n",
    "    results = obj.get_results()\n",
    "    print(\"Results from Calc:\")\n",
    "    for key, value in results.items():\n",
    "        print(f\"{key}: {value}\")"
   ]
  },
  {
   "cell_type": "code",
   "execution_count": 13,
   "id": "e51c6cf1",
   "metadata": {},
   "outputs": [
    {
     "name": "stdout",
     "output_type": "stream",
     "text": [
      "addition is also initialized by reciving a,b from obj\n",
      "multiplication is also initialized by reciving a,b from obj\n",
      "calc is also initialized by reciving a,b from obj\n",
      "Results from calc:\n",
      "Addition: 30\n",
      "Multiplication: 200\n"
     ]
    }
   ],
   "source": [
    "class addition:\n",
    "    def __init__(self, a, b):\n",
    "        self.a = a\n",
    "        self.b = b\n",
    "        print(\"addition is also initialized by reciving a,b from obj\")\n",
    "    def add(self):\n",
    "        return self.a + self.b\n",
    "class multiplication:\n",
    "    def __init__(self, a, b):\n",
    "        self.a = a\n",
    "        self.b = b\n",
    "        print(\"multiplication is also initialized by reciving a,b from obj\")\n",
    "    def mul(self):\n",
    "        return self.a * self.b\n",
    "class calc(addition, multiplication):\n",
    "    def __init__(self, a, b):\n",
    "        addition.__init__(self, a, b)\n",
    "        multiplication.__init__(self, a, b)\n",
    "        print(\"calc is also initialized by reciving a,b from obj\")\n",
    "    def get_results(self):\n",
    "        return {\n",
    "            \"Addition\": self.add(),\n",
    "            \"Multiplication\": self.mul()\n",
    "        }\n",
    "if __name__ == \"__main__\":\n",
    "    obj = calc(10, 20)\n",
    "    results = obj.get_results()\n",
    "    print(\"Results from calc:\")\n",
    "    for key, value in results.items():\n",
    "        print(f\"{key}: {value}\")"
   ]
  },
  {
   "cell_type": "code",
   "execution_count": 14,
   "id": "a9736394",
   "metadata": {},
   "outputs": [
    {
     "name": "stdout",
     "output_type": "stream",
     "text": [
      "name.....\n",
      "phd\n",
      "experience.....15 years\n"
     ]
    }
   ],
   "source": [
    "class person:\n",
    "    def name(self):\n",
    "        print(\"name.....\")\n",
    "class teacher(person):\n",
    "    def qualifaction(self):\n",
    "        print(\"phd\")\n",
    "class hod(teacher):\n",
    "    def exp(self):\n",
    "        print(\"experience.....15 years\")\n",
    "head = hod()\n",
    "head.name()\n",
    "head.qualifaction()\n",
    "head.exp()"
   ]
  },
  {
   "cell_type": "code",
   "execution_count": 5,
   "id": "64f815f7",
   "metadata": {},
   "outputs": [
    {
     "name": "stdout",
     "output_type": "stream",
     "text": [
      "number initilized\n",
      "square 16\n",
      "cube 64\n"
     ]
    }
   ],
   "source": [
    "class num:\n",
    "    def __init__(self,n):\n",
    "        self.n=n\n",
    "        print(\"number initilized\")\n",
    "class sq(num):\n",
    "    def square(self):\n",
    "        return self.n**2\n",
    "class cu(sq):\n",
    "    def cube(self):\n",
    "        return self.n**3\n",
    "calc = cu(4)\n",
    "print(\"square\",calc.square())\n",
    "print(\"cube\",calc.cube())"
   ]
  },
  {
   "cell_type": "code",
   "execution_count": 6,
   "id": "2f7d86e0",
   "metadata": {},
   "outputs": [
    {
     "name": "stdout",
     "output_type": "stream",
     "text": [
      "double 8\n",
      "triple 12\n"
     ]
    }
   ],
   "source": [
    "class number:\n",
    "    def __init__(self,num):\n",
    "        self.num=num\n",
    "    def get_number(self):\n",
    "        return self.num\n",
    "class double(number):\n",
    "    def double(self):\n",
    "        return self.get_number() * 2\n",
    "class triple(number):\n",
    "    def triple(self):\n",
    "        return self.get_number() * 3\n",
    "d = double(4)\n",
    "print(\"double\",d.double())\n",
    "t = triple(4)\n",
    "print(\"triple\",t.triple())"
   ]
  },
  {
   "cell_type": "code",
   "execution_count": null,
   "id": "578622ef",
   "metadata": {},
   "outputs": [],
   "source": []
  }
 ],
 "metadata": {
  "kernelspec": {
   "display_name": "Python (myenv)",
   "language": "python",
   "name": "myenv"
  },
  "language_info": {
   "codemirror_mode": {
    "name": "ipython",
    "version": 3
   },
   "file_extension": ".py",
   "mimetype": "text/x-python",
   "name": "python",
   "nbconvert_exporter": "python",
   "pygments_lexer": "ipython3",
   "version": "3.12.6"
  }
 },
 "nbformat": 4,
 "nbformat_minor": 5
}
