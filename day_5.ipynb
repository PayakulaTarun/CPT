{
 "cells": [
  {
   "cell_type": "markdown",
   "id": "14b3b3eb",
   "metadata": {},
   "source": [
    "DAY-5"
   ]
  },
  {
   "cell_type": "code",
   "execution_count": 6,
   "id": "86802160",
   "metadata": {},
   "outputs": [
    {
     "name": "stdout",
     "output_type": "stream",
     "text": [
      "Base Class-2\n",
      "Base Class-1\n",
      "Derived Class from both classes\n"
     ]
    }
   ],
   "source": [
    "class base1(object):\n",
    "    def __init__(self):\n",
    "        super(base1, self).__init__()\n",
    "        print(\"Base Class-1\")\n",
    "class base2(object):\n",
    "    def __init__(self):\n",
    "        super(base2, self).__init__()\n",
    "        print(\"Base Class-2\")\n",
    "class derived(base1, base2):\n",
    "    def __init__(self):\n",
    "        super(derived, self).__init__()\n",
    "        print(\"Derived Class from both classes\")\n",
    "d = derived()"
   ]
  },
  {
   "cell_type": "code",
   "execution_count": null,
   "id": "b4b17351",
   "metadata": {},
   "outputs": [],
   "source": []
  }
 ],
 "metadata": {
  "kernelspec": {
   "display_name": "Python (myenv)",
   "language": "python",
   "name": "myenv"
  },
  "language_info": {
   "codemirror_mode": {
    "name": "ipython",
    "version": 3
   },
   "file_extension": ".py",
   "mimetype": "text/x-python",
   "name": "python",
   "nbconvert_exporter": "python",
   "pygments_lexer": "ipython3",
   "version": "3.12.6"
  }
 },
 "nbformat": 4,
 "nbformat_minor": 5
}
