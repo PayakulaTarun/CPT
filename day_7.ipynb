{
 "cells": [
  {
   "cell_type": "markdown",
   "id": "70a55ba6",
   "metadata": {},
   "source": [
    "Errors and exceptions\n",
    "types of errors\n",
    "types of exceptions\n"
   ]
  },
  {
   "cell_type": "code",
   "execution_count": 2,
   "id": "dfb7708b",
   "metadata": {},
   "outputs": [
    {
     "name": "stdout",
     "output_type": "stream",
     "text": [
      "hello\n"
     ]
    }
   ],
   "source": [
    "print(\"hello\")"
   ]
  },
  {
   "cell_type": "code",
   "execution_count": null,
   "id": "cd9fe554",
   "metadata": {},
   "outputs": [],
   "source": []
  }
 ],
 "metadata": {
  "kernelspec": {
   "display_name": "Python (myenv)",
   "language": "python",
   "name": "myenv"
  },
  "language_info": {
   "codemirror_mode": {
    "name": "ipython",
    "version": 3
   },
   "file_extension": ".py",
   "mimetype": "text/x-python",
   "name": "python",
   "nbconvert_exporter": "python",
   "pygments_lexer": "ipython3",
   "version": "3.12.6"
  }
 },
 "nbformat": 4,
 "nbformat_minor": 5
}
