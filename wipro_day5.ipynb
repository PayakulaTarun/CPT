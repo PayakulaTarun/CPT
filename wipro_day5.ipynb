{
 "cells": [
  {
   "cell_type": "code",
   "execution_count": 4,
   "id": "6c0d8da1",
   "metadata": {},
   "outputs": [
    {
     "name": "stdout",
     "output_type": "stream",
     "text": [
      "Enter 10 integers:\n",
      "\n",
      "The sum of the array elements is: 434\n"
     ]
    }
   ],
   "source": [
    "#design an algorithm to accept 10 integers for an array and print the sum of the elements in the array.\n",
    "\n",
    "def sum_of_array_elements():\n",
    "    arr = []\n",
    "    total = 0\n",
    "\n",
    "    print(\"Enter 10 integers:\")\n",
    "    for i in range(10):\n",
    "        num = int(input(f\"Enter number {i+1}: \"))\n",
    "        arr.append(num)\n",
    "        total += num\n",
    "\n",
    "    print(\"\\nThe sum of the array elements is:\", total)\n",
    "\n",
    "# Run the function\n",
    "sum_of_array_elements()\n"
   ]
  },
  {
   "cell_type": "code",
   "execution_count": 6,
   "id": "e7298651",
   "metadata": {},
   "outputs": [
    {
     "name": "stdout",
     "output_type": "stream",
     "text": [
      "Enter 20 integers:\n",
      "\n",
      "Minimum 3 elements are: [1, 2, 3]\n",
      "Maximum 3 elements are: [234556, 3456789, 3422123456]\n"
     ]
    }
   ],
   "source": [
    "#design an algorithm to accept 20 integers for an array and print the maximum 3 and minimun 3 elements from the array \n",
    "\n",
    "def find_max_min_elements():\n",
    "    arr = []\n",
    "\n",
    "    print(\"Enter 20 integers:\")\n",
    "    for i in range(20):\n",
    "        num = int(input(f\"Enter number {i+1}: \"))\n",
    "        arr.append(num)\n",
    "\n",
    "    # Sort the array\n",
    "    arr.sort()\n",
    "\n",
    "    # Get minimum and maximum 3 elements\n",
    "    min_elements = arr[:3]\n",
    "    max_elements = arr[-3:]\n",
    "\n",
    "    print(\"\\nMinimum 3 elements are:\", min_elements)\n",
    "    print(\"Maximum 3 elements are:\", max_elements)\n",
    "\n",
    "# Run the function\n",
    "find_max_min_elements()\n"
   ]
  },
  {
   "cell_type": "code",
   "execution_count": 7,
   "id": "97bbaee6",
   "metadata": {},
   "outputs": [
    {
     "name": "stdout",
     "output_type": "stream",
     "text": [
      "Enter 10 integers:\n",
      "\n",
      "Reversed array:\n",
      "35 25 24 23 45 34 12 23 42 2 "
     ]
    }
   ],
   "source": [
    "# designed an algorithm to accept 10 integers for an array and then rearrange the elements in the array in reverse order. the reversed array should be printed.\n",
    "\n",
    "def reverse_array():\n",
    "    arr = []\n",
    "\n",
    "    print(\"Enter 10 integers:\")\n",
    "    for i in range(10):\n",
    "        num = int(input(f\"Enter number {i+1}: \"))\n",
    "        arr.append(num)\n",
    "\n",
    "    # Reverse the array\n",
    "    reversed_arr = arr[::-1]\n",
    "\n",
    "    print(\"\\nReversed array:\")\n",
    "    for num in reversed_arr:\n",
    "        print(num, end=\" \")\n",
    "\n",
    "# Run the function\n",
    "reverse_array()\n"
   ]
  },
  {
   "cell_type": "code",
   "execution_count": 8,
   "id": "aae506d1",
   "metadata": {},
   "outputs": [
    {
     "name": "stdout",
     "output_type": "stream",
     "text": [
      "Enter marks for 30 students (between 0 and 100):\n",
      "\n",
      "Frequency of each mark:\n",
      "Mark 12: 1 student(s)\n",
      "Mark 23: 2 student(s)\n",
      "Mark 33: 1 student(s)\n",
      "Mark 34: 6 student(s)\n",
      "Mark 35: 1 student(s)\n",
      "Mark 41: 1 student(s)\n",
      "Mark 43: 1 student(s)\n",
      "Mark 45: 2 student(s)\n",
      "Mark 55: 1 student(s)\n",
      "Mark 56: 3 student(s)\n",
      "Mark 66: 1 student(s)\n",
      "Mark 67: 3 student(s)\n",
      "Mark 76: 2 student(s)\n",
      "Mark 89: 2 student(s)\n",
      "Mark 98: 1 student(s)\n",
      "Mark 99: 1 student(s)\n",
      "Mark 100: 1 student(s)\n"
     ]
    }
   ],
   "source": [
    "# design an algorithm to accepts a set of N(consider N as 30)student's examination marks(in the range of 0-100). Then make a count of the number of students that obtain each possible mark.\n",
    "\n",
    "def count_marks_frequency():\n",
    "    marks_count = [0] * 101  # Index 0 to 100\n",
    "\n",
    "    print(\"Enter marks for 30 students (between 0 and 100):\")\n",
    "\n",
    "    i = 0\n",
    "    while i < 30:\n",
    "        mark = int(input(f\"Enter mark for student {i+1}: \"))\n",
    "        if 0 <= mark <= 100:\n",
    "            marks_count[mark] += 1\n",
    "            i += 1\n",
    "        else:\n",
    "            print(\"Invalid mark! Please enter a number between 0 and 100.\")\n",
    "\n",
    "    print(\"\\nFrequency of each mark:\")\n",
    "    for mark in range(101):\n",
    "        if marks_count[mark] > 0:\n",
    "            print(f\"Mark {mark}: {marks_count[mark]} student(s)\")\n",
    "\n",
    "# Run the function\n",
    "count_marks_frequency()\n"
   ]
  },
  {
   "cell_type": "code",
   "execution_count": null,
   "id": "a957bcd8",
   "metadata": {},
   "outputs": [],
   "source": []
  }
 ],
 "metadata": {
  "kernelspec": {
   "display_name": "Python (myenv)",
   "language": "python",
   "name": "myenv"
  },
  "language_info": {
   "codemirror_mode": {
    "name": "ipython",
    "version": 3
   },
   "file_extension": ".py",
   "mimetype": "text/x-python",
   "name": "python",
   "nbconvert_exporter": "python",
   "pygments_lexer": "ipython3",
   "version": "3.12.6"
  }
 },
 "nbformat": 4,
 "nbformat_minor": 5
}
