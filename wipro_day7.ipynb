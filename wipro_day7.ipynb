{
 "cells": [
  {
   "cell_type": "code",
   "execution_count": 3,
   "id": "0213baff",
   "metadata": {},
   "outputs": [
    {
     "name": "stdout",
     "output_type": "stream",
     "text": [
      "Array a:\n",
      "[[1 2 3]\n",
      " [4 5 6]]\n",
      "Array b:\n",
      "[[ 7  8  9]\n",
      " [10 11 12]]\n",
      "Vertically stacked array:\n",
      "[[ 1  2  3]\n",
      " [ 4  5  6]\n",
      " [ 7  8  9]\n",
      " [10 11 12]]\n",
      "Horizontally stacked array:\n",
      "[[ 1  2  3  7  8  9]\n",
      " [ 4  5  6 10 11 12]]\n"
     ]
    },
    {
     "data": {
      "image/png": "[encoded data removed]",
      "text/plain": [
       "<Figure size 1000x500 with 4 Axes>"
      ]
     },
     "metadata": {},
     "output_type": "display_data"
    }
   ],
   "source": [
    "'''vertical and horizontal - vstack and hstack'''\n",
    "'''code to take two arrays a and b , integrate a and b vertically and horizontally'''\n",
    "import numpy as np\n",
    "import matplotlib.pyplot as plt\n",
    "def main():\n",
    "    a = np.array([[1, 2, 3], [4, 5, 6]])\n",
    "    b = np.array([[7, 8, 9], [10, 11, 12]])\n",
    "    print(\"Array a:\")\n",
    "    print(a)\n",
    "    print(\"Array b:\")\n",
    "    print(b)\n",
    "    # Vertical stacking\n",
    "    vstacked = np.vstack((a, b))\n",
    "    print(\"Vertically stacked array:\")\n",
    "    print(vstacked)\n",
    "    # Horizontal stacking\n",
    "    hstacked = np.hstack((a, b))\n",
    "    print(\"Horizontally stacked array:\")\n",
    "    print(hstacked)\n",
    "    # Plotting the arrays\n",
    "    plt.figure(figsize=(10, 5))\n",
    "    plt.subplot(1, 2, 1)\n",
    "    plt.title('Vertically Stacked Array')\n",
    "    plt.imshow(vstacked, cmap='viridis', aspect='auto')\n",
    "    plt.colorbar()\n",
    "    plt.subplot(1, 2, 2)\n",
    "    plt.title('Horizontally Stacked Array')\n",
    "    plt.imshow(hstacked, cmap='viridis', aspect='auto')\n",
    "    plt.colorbar()\n",
    "    plt.tight_layout()\n",
    "    plt.show()\n",
    "if __name__ == \"__main__\":\n",
    "    main()"
   ]
  },
  {
   "cell_type": "code",
   "execution_count": 4,
   "id": "7c06c911",
   "metadata": {},
   "outputs": [
    {
     "name": "stdout",
     "output_type": "stream",
     "text": [
      "vertical stack: \n",
      " [[3 2 4]\n",
      " [4 3 2]]\n",
      "horizontal stack: \n",
      " [3 2 4 4 3 2]\n"
     ]
    }
   ],
   "source": [
    "'''code to take two arrays a and b , integrate a and b vertically and horizontally'''\n",
    "a=list(map(int, input(\"Enter elements of array a separated by space: \").split()))\n",
    "b=list(map(int, input(\"Enter elements of array b separated by space: \").split()))\n",
    "a=np.array(a)\n",
    "b=np.array(b)\n",
    "print(\"vertical stack: \\n\", np.vstack((a, b)))\n",
    "print(\"horizontal stack: \\n\", np.hstack((a, b)))"
   ]
  },
  {
   "cell_type": "code",
   "execution_count": 5,
   "id": "acf417d5",
   "metadata": {},
   "outputs": [
    {
     "name": "stdout",
     "output_type": "stream",
     "text": [
      "Odd numbers in the array: [1, 3, 5, 9, 7]\n"
     ]
    }
   ],
   "source": [
    "'''code to extract all the odd numbers from a user input and print them in a list using array of numpy\n",
    "input: 1 2 3 4 5 9 8 7 6\n",
    "output: [1, 3, 5, 9, 7]'''\n",
    "a=list(map(int, input(\"Enter elements of array a separated by space: \").split()))\n",
    "a=np.array(a)\n",
    "odd_numbers = a[a % 2 != 0]\n",
    "print(\"Odd numbers in the array:\", odd_numbers.tolist())"
   ]
  },
  {
   "cell_type": "code",
   "execution_count": 7,
   "id": "088fd75a",
   "metadata": {},
   "outputs": [
    {
     "name": "stdout",
     "output_type": "stream",
     "text": [
      "Array with odd numbers replaced by -1: [-1, 2, -1, 4, -1, -1, 8, -1, 6]\n"
     ]
    }
   ],
   "source": [
    "'''code to extract all the odd numbers from a user input and print them in a list using array of numpy showing the odd numbers as -1 and even numbers as they are\n",
    "input: 1 2 3 4 5 9 8 7 6\n",
    "output: [-1,2, -1,4,-1,-1,8,-1,6]'''\n",
    "a=list(map(int, input(\"Enter elements of array a separated by space: \").split()))\n",
    "a=np.array(a)\n",
    "odd_even_array = np.where(a % 2 != 0, -1, a)\n",
    "print(\"Array with odd numbers replaced by -1:\", odd_even_array.tolist())"
   ]
  },
  {
   "cell_type": "code",
   "execution_count": 11,
   "id": "9f5cf002",
   "metadata": {},
   "outputs": [
    {
     "name": "stdout",
     "output_type": "stream",
     "text": [
      "Array with odd numbers replaced by -1: [-1, 2, -1, 4, -1]\n",
      "Boolean array indicating even numbers: [1, 2, 1, 4, 1]\n"
     ]
    }
   ],
   "source": [
    "'''input 1 2 3 4 5\n",
    "output: [-1, 2, -1, 4, -1]\n",
    "output: [True, 2, True, 4, True]'''\n",
    "a = list(map(int, input(\"Enter elements of array a separated by space: \").split()))\n",
    "a = np.array(a)\n",
    "odd_even_array = np.where(a % 2 != 0, -1, a)\n",
    "print(\"Array with odd numbers replaced by -1:\", odd_even_array.tolist())\n",
    "bool_array = np.where(a % 2 != 0, True, a)\n",
    "print(\"Boolean array indicating even numbers:\", bool_array.tolist())"
   ]
  },
  {
   "cell_type": "code",
   "execution_count": 12,
   "id": "c7af5a5e",
   "metadata": {},
   "outputs": [
    {
     "name": "stdout",
     "output_type": "stream",
     "text": [
      "['1' 'even' '3' 'even' '5' 'even']\n"
     ]
    }
   ],
   "source": [
    "'''input = 1 2 3 4 5\n",
    "output = [1, 2, 3, 4, 5]\n",
    "output = [True, 2, True, 4, True]\n",
    "output = [1, even, 3, even, 5]'''\n",
    "a = list(map(int, input(\"Enter elements of array a separated by space: \").split()))\n",
    "a = np.array(a)\n",
    "odd_even_array = np.where(a % 2 != 0, a, 'even')\n",
    "print(odd_even_array)"
   ]
  },
  {
   "cell_type": "code",
   "execution_count": null,
   "id": "a8411d6d",
   "metadata": {},
   "outputs": [],
   "source": []
  }
 ],
 "metadata": {
  "kernelspec": {
   "display_name": "Python (myenv)",
   "language": "python",
   "name": "myenv"
  },
  "language_info": {
   "codemirror_mode": {
    "name": "ipython",
    "version": 3
   },
   "file_extension": ".py",
   "mimetype": "text/x-python",
   "name": "python",
   "nbconvert_exporter": "python",
   "pygments_lexer": "ipython3",
   "version": "3.12.6"
  }
 },
 "nbformat": 4,
 "nbformat_minor": 5
}
