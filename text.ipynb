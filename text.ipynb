{
 "cells": [
  {
   "cell_type": "code",
   "execution_count": 8,
   "id": "a68d88f7",
   "metadata": {},
   "outputs": [
    {
     "name": "stdout",
     "output_type": "stream",
     "text": [
      "<_io.BufferedReader name='input.txt'>\n",
      "b'hello'\n"
     ]
    }
   ],
   "source": [
    "file=open('input.txt','rb')\n",
    "print(file)\n",
    "print(file.read())\n",
    "file.close()"
   ]
  },
  {
   "cell_type": "code",
   "execution_count": 9,
   "id": "fc997c9a",
   "metadata": {},
   "outputs": [
    {
     "name": "stdout",
     "output_type": "stream",
     "text": [
      "<_io.BufferedReader name='input.txt'>\n",
      "b'hello'\n"
     ]
    }
   ],
   "source": [
    "with open('input.txt','rb') as file:\n",
    "    print(file)\n",
    "    print(file.read())"
   ]
  },
  {
   "cell_type": "code",
   "execution_count": 14,
   "id": "ff346839",
   "metadata": {},
   "outputs": [],
   "source": [
    "with open('input.txt','w') as file:\n",
    "    file.write('Hello, world! wipro , TCS , Capgemini , Infosys , Accenture , Cognizant , HCL , Tech Mahindra , LTI Mindtree , Wipro  \\n')\n",
    "    file.write('Hello, world! wipro , TCS , Capgemini , Infosys , Accenture , Cognizant , HCL , Tech Mahindra , LTI Mindtree , Wipro  \\n')\n",
    "    file.write('Hello, world! wipro , TCS , Capgemini , Infosys , Accenture , Cognizant , HCL , Tech Mahindra , LTI Mindtree , Wipro  \\n')"
   ]
  },
  {
   "cell_type": "code",
   "execution_count": 15,
   "id": "46140f9f",
   "metadata": {},
   "outputs": [],
   "source": [
    "data = b'this is a saimple of binary data '\n",
    "with open('binaryfile.bin', 'wb') as file:\n",
    "    file.write(data)"
   ]
  },
  {
   "cell_type": "code",
   "execution_count": 16,
   "id": "7ef067bd",
   "metadata": {},
   "outputs": [
    {
     "name": "stdout",
     "output_type": "stream",
     "text": [
      "b'this is a saimple of binary data '\n"
     ]
    }
   ],
   "source": [
    "with open('binaryfile.bin', 'rb') as file:\n",
    "    content = file.read()\n",
    "    print(content)"
   ]
  },
  {
   "cell_type": "code",
   "execution_count": 17,
   "id": "d2202e38",
   "metadata": {},
   "outputs": [],
   "source": [
    "with open('binaryfile.bin', 'wb') as file:\n",
    "    file.write(content)"
   ]
  },
  {
   "cell_type": "code",
   "execution_count": 18,
   "id": "8b907497",
   "metadata": {},
   "outputs": [],
   "source": [
    "with open('input.txt','r+') as file:\n",
    "    content = file.read()\n",
    "    file.seek(0)\n",
    "    file.write('modification done here \\n')"
   ]
  },
  {
   "cell_type": "code",
   "execution_count": 23,
   "id": "2efaaf78",
   "metadata": {},
   "outputs": [],
   "source": [
    "with open('input.txt','r+') as file:\n",
    "    content = file.read()\n",
    "    file.seek(10)\n",
    "    file.write('             here')"
   ]
  },
  {
   "cell_type": "code",
   "execution_count": 44,
   "id": "c461d550",
   "metadata": {},
   "outputs": [
    {
     "name": "stdout",
     "output_type": "stream",
     "text": [
      "4 5 8 10 12 15 16 20 "
     ]
    }
   ],
   "source": [
    "a =[1,2,3,4,5,6,7,8,9,10,11,12,13,14,15,16,17,18,19,20]\n",
    "for i in a:\n",
    "    if i%4==0 or i%5==0:\n",
    "        print(i, end=' ')"
   ]
  },
  {
   "cell_type": "code",
   "execution_count": 38,
   "id": "8e910c9b",
   "metadata": {},
   "outputs": [],
   "source": [
    "with open('input.txt','a+') as file:\n",
    "    file.write('\\n append data here \\n')"
   ]
  },
  {
   "cell_type": "code",
   "execution_count": 45,
   "id": "d6daac0c",
   "metadata": {},
   "outputs": [
    {
     "name": "stdout",
     "output_type": "stream",
     "text": [
      "['modificati             here', 'e', 'ni , Infosys , Accenture , Cognizant , HCL , Tech Mahindra , LTI Mindtree , Wipro', 'Hello, world! wipro , TCS , Capgemini , Infosys , Accenture , Cognizant , HCL , Tech Mahindra , LTI Mindtree , Wipro', 'Hello, world! wipro , TCS , Capgemini , Infosys , Accenture , Cognizant , HCL , Tech Mahindra , LTI Mindtree , Wipro', '', 'append data here', '', 'append data here']\n"
     ]
    }
   ],
   "source": [
    "with open('input.txt','r') as file:\n",
    "    seperate_lines=[line.strip() for line in file.readlines()]\n",
    "    print(seperate_lines)"
   ]
  },
  {
   "cell_type": "code",
   "execution_count": 46,
   "id": "00191953",
   "metadata": {},
   "outputs": [
    {
     "name": "stdout",
     "output_type": "stream",
     "text": [
      "False\n",
      "True\n"
     ]
    }
   ],
   "source": [
    "file = open('input.txt','r')\n",
    "print(file.closed)\n",
    "file.close()\n",
    "print(file.closed)"
   ]
  },
  {
   "cell_type": "code",
   "execution_count": 53,
   "id": "f4380e54",
   "metadata": {},
   "outputs": [
    {
     "data": {
      "text/plain": [
       "\"program to create a txt file access the text file data and use the data to spit the lines into series of words and use space of perform split operation\\nsample.txt\\nhello world\\nhow are you today\\nlist:\\n['hello', 'world', 'how', 'are', 'you', 'today']\\n\""
      ]
     },
     "execution_count": 53,
     "metadata": {},
     "output_type": "execute_result"
    }
   ],
   "source": [
    "'''program to create a txt file access the text file data and use the data to spit the lines into series of words and use space of perform split operation\n",
    "sample.txt\n",
    "hello world\n",
    "how are you today\n",
    "list:\n",
    "['hello', 'world', 'how', 'are', 'you', 'today']\n",
    "'''"
   ]
  },
  {
   "cell_type": "code",
   "execution_count": 52,
   "id": "56d5e05d",
   "metadata": {},
   "outputs": [
    {
     "name": "stdout",
     "output_type": "stream",
     "text": [
      "['hello', 'world', 'how', 'are', 'you', 'today']\n"
     ]
    }
   ],
   "source": [
    "with open('sample.txt', 'w') as file:\n",
    "    file.write('hello world\\nhow are you today')\n",
    "\n",
    "with open('sample.txt', 'r') as file:\n",
    "    data = file.read()\n",
    "    words = data.split()\n",
    "    print(words)"
   ]
  },
  {
   "cell_type": "code",
   "execution_count": null,
   "id": "a5ff4b4e",
   "metadata": {},
   "outputs": [],
   "source": []
  }
 ],
 "metadata": {
  "kernelspec": {
   "display_name": "Python (myenv)",
   "language": "python",
   "name": "myenv"
  },
  "language_info": {
   "codemirror_mode": {
    "name": "ipython",
    "version": 3
   },
   "file_extension": ".py",
   "mimetype": "text/x-python",
   "name": "python",
   "nbconvert_exporter": "python",
   "pygments_lexer": "ipython3",
   "version": "3.12.6"
  }
 },
 "nbformat": 4,
 "nbformat_minor": 5
}
