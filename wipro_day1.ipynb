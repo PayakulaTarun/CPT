{
 "cells": [
  {
   "cell_type": "markdown",
   "id": "ab13b349",
   "metadata": {},
   "source": [
    "Wipro Day-1"
   ]
  },
  {
   "cell_type": "code",
   "execution_count": 109,
   "id": "5117ba50",
   "metadata": {},
   "outputs": [
    {
     "name": "stdout",
     "output_type": "stream",
     "text": [
      "square root 2.6457513110645907\n",
      "factorial 5040\n",
      "pi value 3.141592653589793\n"
     ]
    }
   ],
   "source": [
    "import math\n",
    "num = int(input(\"enter the number\"))\n",
    "print(\"square root\",math.sqrt(num))\n",
    "print(\"factorial\",math.factorial(num))\n",
    "print(\"pi value\",math.pi)"
   ]
  },
  {
   "cell_type": "code",
   "execution_count": 110,
   "id": "c0befd85",
   "metadata": {},
   "outputs": [
    {
     "name": "stdout",
     "output_type": "stream",
     "text": [
      "Random number from 10 to 50 45\n"
     ]
    }
   ],
   "source": [
    "# random - generate a random number\n",
    "import random\n",
    "from random import randint\n",
    "\n",
    "print(\"Random number from 10 to 50\",random.randint(10,50))"
   ]
  },
  {
   "cell_type": "code",
   "execution_count": 111,
   "id": "c5e1a479",
   "metadata": {},
   "outputs": [
    {
     "name": "stdout",
     "output_type": "stream",
     "text": [
      "Random number from 0 to 1 0.8568630063847495\n"
     ]
    }
   ],
   "source": [
    "print(\"Random number from 0 to 1\",random.random())"
   ]
  },
  {
   "cell_type": "code",
   "execution_count": 112,
   "id": "d69b995c",
   "metadata": {},
   "outputs": [
    {
     "name": "stdout",
     "output_type": "stream",
     "text": [
      "Random number from 1.5 to 5.5 4.624872221519055\n"
     ]
    }
   ],
   "source": [
    "print(\"Random number from 1.5 to 5.5\",random.uniform(1.5,5.5))"
   ]
  },
  {
   "cell_type": "code",
   "execution_count": 113,
   "id": "9f2757f7",
   "metadata": {},
   "outputs": [
    {
     "name": "stdout",
     "output_type": "stream",
     "text": [
      "random choice from list mango\n"
     ]
    }
   ],
   "source": [
    "fruits = ['banana','apple','orange','mango']\n",
    "print(\"random choice from list\", random.choice(fruits))"
   ]
  },
  {
   "cell_type": "code",
   "execution_count": 114,
   "id": "ef694f8e",
   "metadata": {},
   "outputs": [
    {
     "name": "stdout",
     "output_type": "stream",
     "text": [
      "random choice from list ['orange']\n"
     ]
    }
   ],
   "source": [
    "print(\"random choice from list\", random.choices(fruits))"
   ]
  },
  {
   "cell_type": "code",
   "execution_count": 115,
   "id": "891a2574",
   "metadata": {},
   "outputs": [
    {
     "name": "stdout",
     "output_type": "stream",
     "text": [
      "shuffled list [3, 4, 1, 2, 5]\n"
     ]
    }
   ],
   "source": [
    "num= [1,2,3,4,5,]\n",
    "random.shuffle(num)\n",
    "print(\"shuffled list\",num)"
   ]
  },
  {
   "cell_type": "code",
   "execution_count": 116,
   "id": "3dcf14ea",
   "metadata": {},
   "outputs": [
    {
     "name": "stdout",
     "output_type": "stream",
     "text": [
      " 58\n"
     ]
    }
   ],
   "source": [
    "random.seed(11)\n",
    "print(\"\",random.randint(1,100))"
   ]
  },
  {
   "cell_type": "code",
   "execution_count": 117,
   "id": "60767829",
   "metadata": {},
   "outputs": [
    {
     "name": "stdout",
     "output_type": "stream",
     "text": [
      "current datetime 2025-06-30 12:26:03.198082\n"
     ]
    }
   ],
   "source": [
    "from datetime import datetime,date,timedelta\n",
    "\n",
    "now = datetime.now()\n",
    "print(\"current datetime\",now)"
   ]
  },
  {
   "cell_type": "code",
   "execution_count": 118,
   "id": "783f8ccf",
   "metadata": {},
   "outputs": [
    {
     "name": "stdout",
     "output_type": "stream",
     "text": [
      "today date 2025-06-30\n"
     ]
    }
   ],
   "source": [
    "print(\"today date\",date.today())"
   ]
  },
  {
   "cell_type": "code",
   "execution_count": 119,
   "id": "0e3f326c",
   "metadata": {},
   "outputs": [
    {
     "name": "stdout",
     "output_type": "stream",
     "text": [
      "today date (YYYY-MM-DD): 2025-06-30\n"
     ]
    }
   ],
   "source": [
    "print(\"today date (YYYY-MM-DD):\", date.today().strftime(\"%Y-%m-%d\"))"
   ]
  },
  {
   "cell_type": "code",
   "execution_count": 120,
   "id": "6d3ea105",
   "metadata": {},
   "outputs": [
    {
     "name": "stdout",
     "output_type": "stream",
     "text": [
      "Parsed datetime: 2023-10-01 12:30:45\n"
     ]
    }
   ],
   "source": [
    "date_str = \"2023-10-01 12:30:45\"\n",
    "parasd = datetime.strptime(date_str, \"%Y-%m-%d %H:%M:%S\")\n",
    "print(\"Parsed datetime:\", parasd)"
   ]
  },
  {
   "cell_type": "code",
   "execution_count": 121,
   "id": "26ce9a86",
   "metadata": {},
   "outputs": [
    {
     "name": "stdout",
     "output_type": "stream",
     "text": [
      "Tomorrow's date: 2025-07-01\n"
     ]
    }
   ],
   "source": [
    "tommorrow = now + timedelta(days=1)\n",
    "print(\"Tomorrow's date:\", tommorrow.strftime(\"%Y-%m-%d\"))"
   ]
  },
  {
   "cell_type": "code",
   "execution_count": 122,
   "id": "18d02ea0",
   "metadata": {},
   "outputs": [
    {
     "name": "stdout",
     "output_type": "stream",
     "text": [
      "Yesterday's date: 2025-06-29\n"
     ]
    }
   ],
   "source": [
    "yesterday = now - timedelta(days=1)\n",
    "print(\"Yesterday's date:\", yesterday.strftime(\"%Y-%m-%d\"))"
   ]
  },
  {
   "cell_type": "code",
   "execution_count": 124,
   "id": "ec2ade2a",
   "metadata": {},
   "outputs": [
    {
     "name": "stdout",
     "output_type": "stream",
     "text": [
      "Time after 2 hours and 30 minutes: 14:56\n"
     ]
    }
   ],
   "source": [
    "ftime = now + timedelta(hours=2, minutes=30)\n",
    "print(\"Time after 2 hours and 30 minutes:\", ftime.strftime(\"%H:%M\"))"
   ]
  },
  {
   "cell_type": "code",
   "execution_count": null,
   "id": "0aff8c19",
   "metadata": {},
   "outputs": [],
   "source": []
  }
 ],
 "metadata": {
  "kernelspec": {
   "display_name": "Python (myenv)",
   "language": "python",
   "name": "myenv"
  },
  "language_info": {
   "codemirror_mode": {
    "name": "ipython",
    "version": 3
   },
   "file_extension": ".py",
   "mimetype": "text/x-python",
   "name": "python",
   "nbconvert_exporter": "python",
   "pygments_lexer": "ipython3",
   "version": "3.12.6"
  }
 },
 "nbformat": 4,
 "nbformat_minor": 5
}
