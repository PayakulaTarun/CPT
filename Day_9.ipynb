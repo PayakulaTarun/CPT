{
 "cells": [
  {
   "cell_type": "code",
   "execution_count": 4,
   "id": "866fe01a",
   "metadata": {},
   "outputs": [
    {
     "name": "stdout",
     "output_type": "stream",
     "text": [
      "[10, 3, 100]\n"
     ]
    }
   ],
   "source": [
    "'''data=[10,'hi',4.5,'student',3,100]from the list containing nummbers and strings, extract only integers using lambda function and list comprehension \n",
    "o/p: [10, 3, 100]'''\n",
    "data = [10, 'hi', 4.5, 'student', 3, 100]\n",
    "integers = list(filter(lambda x: type(x) == int, data))\n",
    "print(integers)"
   ]
  },
  {
   "cell_type": "code",
   "execution_count": 3,
   "id": "56ca8483",
   "metadata": {},
   "outputs": [
    {
     "name": "stdout",
     "output_type": "stream",
     "text": [
      "Factorial of 4 is 24\n"
     ]
    }
   ],
   "source": [
    "'''calculate the factorial of a n using recursionnof lambda function. n=4'''\n",
    "def factorial(n):\n",
    "    if n == 0 or n == 1:\n",
    "        return 1\n",
    "    else:\n",
    "        return n * factorial(n - 1)\n",
    "n = 4\n",
    "result = factorial(n)\n",
    "print(\"Factorial of\", n, \"is\", result)"
   ]
  },
  {
   "cell_type": "code",
   "execution_count": 16,
   "id": "c9555bdc",
   "metadata": {},
   "outputs": [
    {
     "name": "stdout",
     "output_type": "stream",
     "text": [
      "120\n"
     ]
    }
   ],
   "source": [
    "n = 5\n",
    "factorial = (lambda f: lambda x: 1 if x == 0 else x * f(f)(x - 1))(\n",
    "    lambda f: lambda x: 1 if x == 0 else x * f(f)(x - 1)\n",
    ")\n",
    "\n",
    "print(factorial(n))\n"
   ]
  },
  {
   "cell_type": "code",
   "execution_count": 17,
   "id": "5c131c80",
   "metadata": {},
   "outputs": [
    {
     "name": "stdout",
     "output_type": "stream",
     "text": [
      "33\n"
     ]
    }
   ],
   "source": [
    "x=lambda num:num+22\n",
    "print(x(11))"
   ]
  },
  {
   "cell_type": "code",
   "execution_count": 18,
   "id": "313ee6a9",
   "metadata": {},
   "outputs": [
    {
     "name": "stdout",
     "output_type": "stream",
     "text": [
      "10\n"
     ]
    }
   ],
   "source": [
    "def b(n):\n",
    "    return lambda x:x*n\n",
    "a=b(2)\n",
    "print(a(5))"
   ]
  },
  {
   "cell_type": "code",
   "execution_count": 21,
   "id": "aba3bca7",
   "metadata": {},
   "outputs": [
    {
     "name": "stdout",
     "output_type": "stream",
     "text": [
      "['PEN', 'CAP', 'BAT']\n",
      "yajiv\n"
     ]
    }
   ],
   "source": [
    "data = ['pen','cap','bat']\n",
    "upper = [(lambda x: x.upper())(i) for i in data]\n",
    "print(upper)\n",
    "word = 'vijay'\n",
    "op = 'yijay'\n",
    "reverse = (lambda x: x[::-1])(word)\n",
    "print(reverse)"
   ]
  },
  {
   "cell_type": "code",
   "execution_count": 22,
   "id": "fc07ca0e",
   "metadata": {},
   "outputs": [
    {
     "name": "stdout",
     "output_type": "stream",
     "text": [
      "yajiv\n"
     ]
    }
   ],
   "source": [
    "word = 'vijay'\n",
    "op = 'yijay'\n",
    "reverse = (lambda x: x[::-1])(word)\n",
    "print(reverse)"
   ]
  },
  {
   "cell_type": "code",
   "execution_count": null,
   "id": "04999460",
   "metadata": {},
   "outputs": [],
   "source": []
  }
 ],
 "metadata": {
  "kernelspec": {
   "display_name": "Python (myenv)",
   "language": "python",
   "name": "myenv"
  },
  "language_info": {
   "codemirror_mode": {
    "name": "ipython",
    "version": 3
   },
   "file_extension": ".py",
   "mimetype": "text/x-python",
   "name": "python",
   "nbconvert_exporter": "python",
   "pygments_lexer": "ipython3",
   "version": "3.12.6"
  }
 },
 "nbformat": 4,
 "nbformat_minor": 5
}
