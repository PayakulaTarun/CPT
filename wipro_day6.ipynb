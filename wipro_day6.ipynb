{
 "cells": [
  {
   "cell_type": "code",
   "execution_count": 4,
   "id": "bd91ed10",
   "metadata": {},
   "outputs": [],
   "source": [
    "import numpy as np"
   ]
  },
  {
   "cell_type": "code",
   "execution_count": 5,
   "id": "2f7466a3",
   "metadata": {},
   "outputs": [
    {
     "name": "stdout",
     "output_type": "stream",
     "text": [
      "[1 2 3 4 5]\n"
     ]
    }
   ],
   "source": [
    "a=np.array([1,2,3,4,5])\n",
    "print(a)"
   ]
  },
  {
   "cell_type": "code",
   "execution_count": 6,
   "id": "f10fe808",
   "metadata": {},
   "outputs": [
    {
     "name": "stdout",
     "output_type": "stream",
     "text": [
      "[[1 2 3]\n",
      " [4 5 6]]\n"
     ]
    }
   ],
   "source": [
    "b=np.array([[1,2,3],[4,5,6]])\n",
    "print(b)"
   ]
  },
  {
   "cell_type": "code",
   "execution_count": 14,
   "id": "e08b3d7a",
   "metadata": {},
   "outputs": [
    {
     "name": "stdout",
     "output_type": "stream",
     "text": [
      "Enter the elements row-wise for a 3x3 matrix:\n",
      "Matrix is:\n",
      "[[ 4  3  2]\n",
      " [ 4 55  6]\n",
      " [ 6  5  4]]\n"
     ]
    }
   ],
   "source": [
    "#matrix input using numpy 3x3\n",
    "matrix = []\n",
    "print(\"Enter the elements row-wise for a 3x3 matrix:\")\n",
    "for i in range(3):\n",
    "    row = list(map(int, input(f\"Enter row {i+1} (3 space-separated numbers): \").split()))\n",
    "    matrix.append(row)\n",
    "\n",
    "matrix = np.array(matrix)\n",
    "print(\"Matrix is:\")\n",
    "print(matrix)\n"
   ]
  },
  {
   "cell_type": "code",
   "execution_count": 15,
   "id": "a32b78d0",
   "metadata": {},
   "outputs": [
    {
     "name": "stdout",
     "output_type": "stream",
     "text": [
      "Array a1: [1 2 3 4 5]\n",
      "Array a2: [ 6  7  8  9 10]\n"
     ]
    }
   ],
   "source": [
    "'''operations on array using numpy'''\n",
    "a1=np.array([1,2,3,4,5])\n",
    "print(\"Array a1:\", a1)\n",
    "a2=np.array([6,7,8,9,10])\n",
    "print(\"Array a2:\", a2)"
   ]
  },
  {
   "cell_type": "code",
   "execution_count": 16,
   "id": "aac472c8",
   "metadata": {},
   "outputs": [
    {
     "name": "stdout",
     "output_type": "stream",
     "text": [
      "[ 7  9 11 13 15]\n",
      "[-5 -5 -5 -5 -5]\n",
      "[ 6 14 24 36 50]\n",
      "[0.16666667 0.28571429 0.375      0.44444444 0.5       ]\n"
     ]
    }
   ],
   "source": [
    "print(a1 + a2)  # Addition\n",
    "print(a1 - a2)  # Subtraction\n",
    "print(a1 * a2)  # Multiplication\n",
    "print(a1 / a2)  # Division"
   ]
  },
  {
   "cell_type": "code",
   "execution_count": 23,
   "id": "83c88014",
   "metadata": {},
   "outputs": [
    {
     "name": "stdout",
     "output_type": "stream",
     "text": [
      "Original array:\n",
      "[1 2 3 4 5 6 7 8 9]\n",
      "Reshaped array:\n",
      "[[1 2 3]\n",
      " [4 5 6]\n",
      " [7 8 9]]\n",
      "Linear array:\n",
      "[1 2 3 4 5 6 7 8 9]\n"
     ]
    }
   ],
   "source": [
    "a = np.arange(1, 10)  # Changed 9 to 10 to get 9 elements (1 to 9)\n",
    "print(\"Original array:\")\n",
    "print(a)\n",
    "\n",
    "reshaped = a.reshape((3, 3))  # Now reshape is valid\n",
    "print(\"Reshaped array:\")\n",
    "print(reshaped)\n",
    "\n",
    "linear = reshaped.reshape(-1)  # Flattening the matrix\n",
    "print(\"Linear array:\")\n",
    "print(linear)"
   ]
  }
 ],
 "metadata": {
  "kernelspec": {
   "display_name": "Python (myenv)",
   "language": "python",
   "name": "myenv"
  },
  "language_info": {
   "codemirror_mode": {
    "name": "ipython",
    "version": 3
   },
   "file_extension": ".py",
   "mimetype": "text/x-python",
   "name": "python",
   "nbconvert_exporter": "python",
   "pygments_lexer": "ipython3",
   "version": "3.12.6"
  }
 },
 "nbformat": 4,
 "nbformat_minor": 5
}
