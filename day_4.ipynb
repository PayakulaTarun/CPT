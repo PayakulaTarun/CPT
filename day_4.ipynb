{
 "cells": [
  {
   "cell_type": "markdown",
   "id": "42771b20",
   "metadata": {},
   "source": [
    "day_4"
   ]
  },
  {
   "cell_type": "code",
   "execution_count": 5,
   "id": "a2b6dd9f",
   "metadata": {},
   "outputs": [
    {
     "name": "stdout",
     "output_type": "stream",
     "text": [
      "The value of var is:  100\n"
     ]
    }
   ],
   "source": [
    "class abc():\n",
    "    def __init__(self,var):\n",
    "        self.__var=var\n",
    "    def  __display(self):\n",
    "        print(\"The value of var is: \",self.__var)\n",
    "obj = abc(100)\n",
    "obj._abc__display()"
   ]
  },
  {
   "cell_type": "code",
   "execution_count": 15,
   "id": "8c50f83a",
   "metadata": {},
   "outputs": [
    {
     "name": "stdout",
     "output_type": "stream",
     "text": [
      "The value of var is:  15\n"
     ]
    }
   ],
   "source": [
    "class abc():\n",
    "    def __init__(self,var):\n",
    "        self.var=var\n",
    "    def  display(self):\n",
    "        print(\"The value of var is: \",self.var)\n",
    "    def add_value(self):\n",
    "        self.var+=5\n",
    "        self.display()\n",
    "obj = abc(10)\n",
    "obj.add_value()"
   ]
  },
  {
   "cell_type": "code",
   "execution_count": null,
   "id": "c264d9fd",
   "metadata": {},
   "outputs": [],
   "source": []
  }
 ],
 "metadata": {
  "kernelspec": {
   "display_name": "Python (myenv)",
   "language": "python",
   "name": "myenv"
  },
  "language_info": {
   "codemirror_mode": {
    "name": "ipython",
    "version": 3
   },
   "file_extension": ".py",
   "mimetype": "text/x-python",
   "name": "python",
   "nbconvert_exporter": "python",
   "pygments_lexer": "ipython3",
   "version": "3.12.6"
  }
 },
 "nbformat": 4,
 "nbformat_minor": 5
}
