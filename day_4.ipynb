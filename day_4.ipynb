{
 "cells": [
  {
   "cell_type": "markdown",
   "id": "42771b20",
   "metadata": {},
   "source": [
    "day_4"
   ]
  },
  {
   "cell_type": "code",
   "execution_count": 5,
   "id": "a2b6dd9f",
   "metadata": {},
   "outputs": [
    {
     "name": "stdout",
     "output_type": "stream",
     "text": [
      "The value of var is:  100\n"
     ]
    }
   ],
   "source": [
    "class abc():\n",
    "    def __init__(self,var):\n",
    "        self.__var=var\n",
    "    def  __display(self):\n",
    "        print(\"The value of var is: \",self.__var)\n",
    "obj = abc(100)\n",
    "obj._abc__display()"
   ]
  },
  {
   "cell_type": "code",
   "execution_count": 15,
   "id": "8c50f83a",
   "metadata": {},
   "outputs": [
    {
     "name": "stdout",
     "output_type": "stream",
     "text": [
      "The value of var is:  15\n"
     ]
    }
   ],
   "source": [
    "class abc():\n",
    "    def __init__(self,var):\n",
    "        self.var=var\n",
    "    def  display(self):\n",
    "        print(\"The value of var is: \",self.var)\n",
    "    def add_value(self):\n",
    "        self.var+=5\n",
    "        self.display()\n",
    "obj = abc(10)\n",
    "obj.add_value()"
   ]
  },
  {
   "cell_type": "code",
   "execution_count": 21,
   "id": "c264d9fd",
   "metadata": {},
   "outputs": [
    {
     "name": "stdout",
     "output_type": "stream",
     "text": [
      "var is : 10\n",
      "var is : 100\n"
     ]
    }
   ],
   "source": [
    "def  aaa(x):\n",
    "    return x*10\n",
    "class abc():\n",
    "    def __init__(self,var):\n",
    "        self.var = var\n",
    "    def display(self):\n",
    "        print(\"var is :\",self.var)\n",
    "    def modify(self):\n",
    "        self.var = aaa(self.var)\n",
    "obj = abc(10)\n",
    "obj.display()\n",
    "obj.modify()\n",
    "obj.display()"
   ]
  },
  {
   "cell_type": "code",
   "execution_count": 34,
   "id": "bd9c4094",
   "metadata": {},
   "outputs": [
    {
     "name": "stdout",
     "output_type": "stream",
     "text": [
      "var is : 10\n",
      "obj has attribute var:  True\n",
      "object after setting var:  55\n",
      "new variable count is created with value: 10\n"
     ]
    }
   ],
   "source": [
    "\"\"\"builtin function - get , set, delete getattr(), setattr(), delattr() \"\"\"\n",
    "\n",
    "class abc():\n",
    "    def __init__(self,var):\n",
    "        self.var = var\n",
    "    def display(self):\n",
    "        print(\"var is :\",self.var)\n",
    "\n",
    "obj = abc(10)\n",
    "obj.display()\n",
    "print(\"obj has attribute var: \",hasattr(obj,'var'))\n",
    "getattr(obj,'var')\n",
    "setattr(obj,'var',55)\n",
    "print(\"object after setting var: \",obj.var)\n",
    "setattr(obj,'count',10)\n",
    "print(\"new variable count is created with value:\",obj.count)\n",
    "delattr(obj,'var')"
   ]
  },
  {
   "cell_type": "code",
   "execution_count": 41,
   "id": "68b5277b",
   "metadata": {},
   "outputs": [
    {
     "name": "stdout",
     "output_type": "stream",
     "text": [
      "v1 is : 10\n",
      "v2 is : 12.345\n",
      "obj.__doc__: None\n",
      "obj.__module__: __main__\n",
      "obj.__dict__: {'v1': 10, 'v2': 12.345}\n",
      "obj.__name__: abc\n",
      "obj.__bases__: (<class 'object'>,)\n"
     ]
    }
   ],
   "source": [
    "\"\"\" built - in class attr\n",
    "1. .__doc__ --- when string doc is not specified n return attr\n",
    "2. .__dict__ --- return dictionary of class attributes\n",
    "3. .__module__ --- return module name where class is defined\n",
    "4. .__name__ --- return class name\n",
    "5. .__bases__ --- return tuple of base classes\n",
    "\"\"\"\n",
    "\n",
    "class abc():\n",
    "    def __init__(self,v1,v2):\n",
    "        self.v1 = v1\n",
    "        self.v2 = v2\n",
    "    def display(self):\n",
    "        print(\"v1 is :\",self.v1)\n",
    "        print(\"v2 is :\",self.v2)\n",
    "\n",
    "\n",
    "obj = abc(10,12.345)\n",
    "obj.display()\n",
    "print(\"obj.__doc__:\",obj.__doc__)\n",
    "print(\"obj.__module__:\",obj.__module__)\n",
    "print(\"obj.__dict__:\",obj.__dict__)\n",
    "print(\"obj.__name__:\",abc.__name__)\n",
    "print(\"obj.__bases__:\",abc.__bases__)"
   ]
  },
  {
   "cell_type": "code",
   "execution_count": 49,
   "id": "128f8b74",
   "metadata": {},
   "outputs": [
    {
     "name": "stdout",
     "output_type": "stream",
     "text": [
      "vijay got [88, 88, 90]\n",
      "anile got [77, 78, 90]\n",
      "obj1 marks are: [88, 88, 90]\n",
      "obj2 marks are: [77, 78, 90]\n"
     ]
    }
   ],
   "source": [
    "\"\"\"program that uses class as student to store the nae and marks of the student, use a list to store the marks of 3 subjects, contraints:\n",
    "1. take class a student\n",
    "2. create a constructor for the student name\n",
    "3. create a function for marks , to be created manually with in that class function and add the marks to the list\n",
    "4. display the student name and marks he/she got\n",
    "5. pass the object's attribute of two student names tc:\n",
    "obj1 =  vijay\n",
    "obj2 =  anile\n",
    "output: vijay got [88,88,90]\n",
    "        anile got [77,78,90]\n",
    "        \"\"\"\n",
    "class student():\n",
    "    def __init__(self,name):\n",
    "        self.name = name\n",
    "        self.marks = []\n",
    "    def add_marks(self,marks):\n",
    "        self.marks.append(marks)\n",
    "    def display(self):\n",
    "        print(self.name,\"got\",self.marks)\n",
    "obj1 = student(\"vijay\")\n",
    "obj1.add_marks(88)\n",
    "obj1.add_marks(88)\n",
    "obj1.add_marks(90)\n",
    "obj1.display()\n",
    "obj2 = student(\"anile\")\n",
    "obj2.add_marks(77)\n",
    "obj2.add_marks(78)\n",
    "obj2.add_marks(90)\n",
    "obj2.display()\n",
    "setattr(obj1,'marks',[88,88,90])\n",
    "print(\"obj1 marks are:\",obj1.marks)\n",
    "setattr(obj2,'marks',[77,78,90])\n",
    "print(\"obj2 marks are:\",obj2.marks)"
   ]
  },
  {
   "cell_type": "code",
   "execution_count": 51,
   "id": "d41b6a67",
   "metadata": {},
   "outputs": [
    {
     "name": "stdout",
     "output_type": "stream",
     "text": [
      "\n",
      "Enter marks for vijay:\n",
      "\n",
      "Enter marks for anile:\n",
      "\n",
      "Student Name: vijay\n",
      "Marks: [89, 98, 99]\n",
      "\n",
      "Student Name: anile\n",
      "Marks: [57, 67, 86]\n"
     ]
    }
   ],
   "source": [
    "class Student:\n",
    "    def __init__(self, name):\n",
    "        self.name = name\n",
    "        self.marks = []\n",
    "    def add_marks(self):\n",
    "        print(f\"\\nEnter marks for {self.name}:\")\n",
    "        for i in range(3):\n",
    "            mark = int(input(f\"Enter mark for subject {i + 1}: \"))\n",
    "            self.marks.append(mark)\n",
    "    def display(self):\n",
    "        print(f\"\\nStudent Name: {self.name}\")\n",
    "        print(\"Marks:\", self.marks)\n",
    "obj1 = Student(\"vijay\")\n",
    "obj2 = Student(\"anile\")\n",
    "obj1.add_marks()\n",
    "obj2.add_marks()\n",
    "obj1.display()\n",
    "obj2.display()\n"
   ]
  },
  {
   "cell_type": "code",
   "execution_count": 52,
   "id": "4d45856b",
   "metadata": {},
   "outputs": [
    {
     "name": "stdout",
     "output_type": "stream",
     "text": [
      "Area of the circle with radius 7.5 is: 176.7144375\n",
      "Circumference of the circle with radius 7.5 is: 47.12385\n"
     ]
    }
   ],
   "source": [
    "class Circle:\n",
    "    pi = 3.14159\n",
    "    def __init__(self, radius):\n",
    "        self.radius = radius\n",
    "    def calculate_area(self):\n",
    "        return Circle.pi * (self.radius ** 2)\n",
    "    def calculate_circumference(self):\n",
    "        return 2 * Circle.pi * self.radius\n",
    "if __name__ == \"__main__\":\n",
    "    radius = 7.5\n",
    "    circle = Circle(radius)\n",
    "    area = circle.calculate_area()\n",
    "    circumference = circle.calculate_circumference()\n",
    "    print(f\"Area of the circle with radius {radius} is: {area}\")\n",
    "    print(f\"Circumference of the circle with radius {radius} is: {circumference}\")\n"
   ]
  },
  {
   "cell_type": "code",
   "execution_count": 54,
   "id": "0bd968df",
   "metadata": {},
   "outputs": [
    {
     "name": "stdout",
     "output_type": "stream",
     "text": [
      "Area of the circle with radius 7.5 is: 176.7144375\n",
      "Circumference of the circle with radius 7.5 is: 47.12385\n"
     ]
    }
   ],
   "source": [
    "''' program that has a class circle , use a class variable to define the value\n",
    "of constant pi.\n",
    "use this class variable to caliculate the area and circumstanc of circle with\n",
    "spcified radius\n",
    "constraints :\n",
    "pi with the class variable as 3.14159\n",
    "radius = 7.5\n",
    "return the area and circumstance values to main prpogram by creating function\n",
    "with in the class respectively'''\n",
    "\n",
    "class Circle:\n",
    "    pi = 3.14159\n",
    "    def __init__(self, radius):\n",
    "        self.radius = radius\n",
    "    def calculate_area(self):\n",
    "        return Circle.pi * (self.radius ** 2)\n",
    "    def calculate_circumference(self):\n",
    "        return 2 * Circle.pi * self.radius\n",
    "if __name__ == \"__main__\":\n",
    "    radius = 7.5\n",
    "    circle = Circle(radius)\n",
    "    area = circle.calculate_area()\n",
    "    circumference = circle.calculate_circumference()\n",
    "    print(f\"Area of the circle with radius {radius} is: {area}\")\n",
    "    print(f\"Circumference of the circle with radius {radius} is: {circumference}\")\n"
   ]
  },
  {
   "cell_type": "code",
   "execution_count": null,
   "id": "0ddeea34",
   "metadata": {},
   "outputs": [],
   "source": []
  }
 ],
 "metadata": {
  "kernelspec": {
   "display_name": "Python (myenv)",
   "language": "python",
   "name": "myenv"
  },
  "language_info": {
   "codemirror_mode": {
    "name": "ipython",
    "version": 3
   },
   "file_extension": ".py",
   "mimetype": "text/x-python",
   "name": "python",
   "nbconvert_exporter": "python",
   "pygments_lexer": "ipython3",
   "version": "3.12.6"
  }
 },
 "nbformat": 4,
 "nbformat_minor": 5
}
