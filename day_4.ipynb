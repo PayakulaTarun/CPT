{
 "cells": [
  {
   "cell_type": "markdown",
   "id": "42771b20",
   "metadata": {},
   "source": [
    "day_4"
   ]
  },
  {
   "cell_type": "code",
   "execution_count": 5,
   "id": "a2b6dd9f",
   "metadata": {},
   "outputs": [
    {
     "name": "stdout",
     "output_type": "stream",
     "text": [
      "The value of var is:  100\n"
     ]
    }
   ],
   "source": [
    "class abc():\n",
    "    def __init__(self,var):\n",
    "        self.__var=var\n",
    "    def  __display(self):\n",
    "        print(\"The value of var is: \",self.__var)\n",
    "obj = abc(100)\n",
    "obj._abc__display()"
   ]
  },
  {
   "cell_type": "code",
   "execution_count": 15,
   "id": "8c50f83a",
   "metadata": {},
   "outputs": [
    {
     "name": "stdout",
     "output_type": "stream",
     "text": [
      "The value of var is:  15\n"
     ]
    }
   ],
   "source": [
    "class abc():\n",
    "    def __init__(self,var):\n",
    "        self.var=var\n",
    "    def  display(self):\n",
    "        print(\"The value of var is: \",self.var)\n",
    "    def add_value(self):\n",
    "        self.var+=5\n",
    "        self.display()\n",
    "obj = abc(10)\n",
    "obj.add_value()"
   ]
  },
  {
   "cell_type": "code",
   "execution_count": 21,
   "id": "c264d9fd",
   "metadata": {},
   "outputs": [
    {
     "name": "stdout",
     "output_type": "stream",
     "text": [
      "var is : 10\n",
      "var is : 100\n"
     ]
    }
   ],
   "source": [
    "def  aaa(x):\n",
    "    return x*10\n",
    "class abc():\n",
    "    def __init__(self,var):\n",
    "        self.var = var\n",
    "    def display(self):\n",
    "        print(\"var is :\",self.var)\n",
    "    def modify(self):\n",
    "        self.var = aaa(self.var)\n",
    "obj = abc(10)\n",
    "obj.display()\n",
    "obj.modify()\n",
    "obj.display()"
   ]
  },
  {
   "cell_type": "code",
   "execution_count": 34,
   "id": "bd9c4094",
   "metadata": {},
   "outputs": [
    {
     "name": "stdout",
     "output_type": "stream",
     "text": [
      "var is : 10\n",
      "obj has attribute var:  True\n",
      "object after setting var:  55\n",
      "new variable count is created with value: 10\n"
     ]
    }
   ],
   "source": [
    "\"\"\"builtin function - get , set, delete getattr(), setattr(), delattr() \"\"\"\n",
    "\n",
    "class abc():\n",
    "    def __init__(self,var):\n",
    "        self.var = var\n",
    "    def display(self):\n",
    "        print(\"var is :\",self.var)\n",
    "\n",
    "obj = abc(10)\n",
    "obj.display()\n",
    "print(\"obj has attribute var: \",hasattr(obj,'var'))\n",
    "getattr(obj,'var')\n",
    "setattr(obj,'var',55)\n",
    "print(\"object after setting var: \",obj.var)\n",
    "setattr(obj,'count',10)\n",
    "print(\"new variable count is created with value:\",obj.count)\n",
    "delattr(obj,'var')"
   ]
  },
  {
   "cell_type": "code",
   "execution_count": 41,
   "id": "68b5277b",
   "metadata": {},
   "outputs": [
    {
     "name": "stdout",
     "output_type": "stream",
     "text": [
      "v1 is : 10\n",
      "v2 is : 12.345\n",
      "obj.__doc__: None\n",
      "obj.__module__: __main__\n",
      "obj.__dict__: {'v1': 10, 'v2': 12.345}\n",
      "obj.__name__: abc\n",
      "obj.__bases__: (<class 'object'>,)\n"
     ]
    }
   ],
   "source": [
    "\"\"\" built - in class attr\n",
    "1. .__doc__ --- when string doc is not specified n return attr\n",
    "2. .__dict__ --- return dictionary of class attributes\n",
    "3. .__module__ --- return module name where class is defined\n",
    "4. .__name__ --- return class name\n",
    "5. .__bases__ --- return tuple of base classes\n",
    "\"\"\"\n",
    "\n",
    "class abc():\n",
    "    def __init__(self,v1,v2):\n",
    "        self.v1 = v1\n",
    "        self.v2 = v2\n",
    "    def display(self):\n",
    "        print(\"v1 is :\",self.v1)\n",
    "        print(\"v2 is :\",self.v2)\n",
    "\n",
    "\n",
    "obj = abc(10,12.345)\n",
    "obj.display()\n",
    "print(\"obj.__doc__:\",obj.__doc__)\n",
    "print(\"obj.__module__:\",obj.__module__)\n",
    "print(\"obj.__dict__:\",obj.__dict__)\n",
    "print(\"obj.__name__:\",abc.__name__)\n",
    "print(\"obj.__bases__:\",abc.__bases__)"
   ]
  },
  {
   "cell_type": "code",
   "execution_count": null,
   "id": "128f8b74",
   "metadata": {},
   "outputs": [],
   "source": []
  }
 ],
 "metadata": {
  "kernelspec": {
   "display_name": "Python (myenv)",
   "language": "python",
   "name": "myenv"
  },
  "language_info": {
   "codemirror_mode": {
    "name": "ipython",
    "version": 3
   },
   "file_extension": ".py",
   "mimetype": "text/x-python",
   "name": "python",
   "nbconvert_exporter": "python",
   "pygments_lexer": "ipython3",
   "version": "3.12.6"
  }
 },
 "nbformat": 4,
 "nbformat_minor": 5
}
