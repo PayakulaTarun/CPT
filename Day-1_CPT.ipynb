{
 "cells": [
  {
   "cell_type": "code",
   "execution_count": 7,
   "id": "47430c21-4366-4599-8931-57890e99f956",
   "metadata": {},
   "outputs": [
    {
     "name": "stdin",
     "output_type": "stream",
     "text": [
      " 1\n",
      " 2\n"
     ]
    },
    {
     "name": "stdout",
     "output_type": "stream",
     "text": [
      "1 2\n",
      "2 1\n"
     ]
    }
   ],
   "source": [
    "a=int(input())\n",
    "b=int(input())\n",
    "print(a,b)\n",
    "a=a^b\n",
    "b=b^a\n",
    "a=a^b\n",
    "print(a,b)"
   ]
  },
  {
   "cell_type": "code",
   "execution_count": 11,
   "id": "d766d540-d147-4d36-8af9-2117565f3ce9",
   "metadata": {},
   "outputs": [
    {
     "name": "stdin",
     "output_type": "stream",
     "text": [
      " 1\n",
      " 2\n"
     ]
    },
    {
     "name": "stdout",
     "output_type": "stream",
     "text": [
      "1 2\n",
      "2 1\n"
     ]
    }
   ],
   "source": [
    "a=int(input())\n",
    "b=int(input())\n",
    "print(a,b)\n",
    "c=a\n",
    "a=b\n",
    "b=c\n",
    "print(a,b)"
   ]
  },
  {
   "cell_type": "code",
   "execution_count": 28,
   "id": "6c37e967-ae55-48a7-acce-32d8ee639166",
   "metadata": {},
   "outputs": [
    {
     "name": "stdout",
     "output_type": "stream",
     "text": [
      "2 1\n",
      "1 2\n"
     ]
    }
   ],
   "source": [
    "print(a,b)\n",
    "temp = a\n",
    "a =  (a|b) & b\n",
    "b = (temp | b) & temp\n",
    "print(a,b)"
   ]
  },
  {
   "cell_type": "code",
   "execution_count": 37,
   "id": "3d410e39-0699-429e-a0b6-70aebbaae0ce",
   "metadata": {},
   "outputs": [
    {
     "name": "stdout",
     "output_type": "stream",
     "text": [
      "1 2\n",
      "2 1\n"
     ]
    }
   ],
   "source": [
    "print(a,b)\n",
    "d = {'a': a, 'b': b}\n",
    "d['a'], d['b'] = d['b'], d['a']\n",
    "a, b = d['a'], d['b']\n",
    "print(a,b)"
   ]
  },
  {
   "cell_type": "code",
   "execution_count": 77,
   "id": "35ef894d-20eb-4b52-916d-3096d1c407c4",
   "metadata": {},
   "outputs": [],
   "source": [
    "gen=iter([1,2,3])\n",
    "lst=list(gen)\n"
   ]
  },
  {
   "cell_type": "code",
   "execution_count": 81,
   "id": "63959abd-248c-4bb6-b1a7-c561e7f7823f",
   "metadata": {},
   "outputs": [
    {
     "name": "stdout",
     "output_type": "stream",
     "text": [
      "[2, 3, 1]\n",
      "[3, 1, 2]\n"
     ]
    }
   ],
   "source": [
    "print(lst)\n",
    "lst[0], lst[1] = lst[1], lst[0]\n",
    "lst[1], lst[2] = lst[2], lst[1]\n",
    "print(lst) "
   ]
  },
  {
   "cell_type": "code",
   "execution_count": 121,
   "id": "f7eda425-8045-4147-9e94-42e55559b4dd",
   "metadata": {},
   "outputs": [
    {
     "name": "stdout",
     "output_type": "stream",
     "text": [
      "[1, 4, 9, 16, 25, 36, 49, 64, 81, 100]\n"
     ]
    }
   ],
   "source": [
    "n=10\n",
    "print(list(i**2 for i in range(1,n+1)))"
   ]
  },
  {
   "cell_type": "code",
   "execution_count": 123,
   "id": "cf9cb380-978d-43ac-b45e-543ac9e6e963",
   "metadata": {},
   "outputs": [
    {
     "name": "stdout",
     "output_type": "stream",
     "text": [
      "[4, 16, 36, 64, 100]\n"
     ]
    }
   ],
   "source": [
    "print([i**2 for i in range(1, n+1) if i % 2 == 0])"
   ]
  },
  {
   "cell_type": "code",
   "execution_count": 125,
   "id": "3137e287-3d02-4a12-97da-afb36011f436",
   "metadata": {},
   "outputs": [
    {
     "name": "stdout",
     "output_type": "stream",
     "text": [
      "[1, 9, 25, 49, 81]\n"
     ]
    }
   ],
   "source": [
    "print([i**2 for i in range(1, n+1) if i % 2 != 0])"
   ]
  },
  {
   "cell_type": "code",
   "execution_count": 191,
   "id": "5ea49060-3a8b-4729-b046-515186b56640",
   "metadata": {},
   "outputs": [
    {
     "name": "stdin",
     "output_type": "stream",
     "text": [
      " 327\n"
     ]
    },
    {
     "name": "stdout",
     "output_type": "stream",
     "text": [
      "327 is not a strong number\n"
     ]
    }
   ],
   "source": [
    "num = int(input())\n",
    "sum_of_factorials = 0\n",
    "temp = num\n",
    "\n",
    "while temp > 0:\n",
    "    digit = temp % 10\n",
    "    sum_of_factorials += math.factorial(digit)\n",
    "    temp //= 10\n",
    "\n",
    "if sum_of_factorials == num:\n",
    "    print(f\"{num} is a strong number\")\n",
    "else:\n",
    "    print(f\"{num} is not a strong number\")\n"
   ]
  },
  {
   "cell_type": "code",
   "execution_count": 483,
   "id": "bc28e09a-89c4-429b-9dee-6b169f06c9d7",
   "metadata": {},
   "outputs": [
    {
     "name": "stdin",
     "output_type": "stream",
     "text": [
      "Enter a number:  11\n"
     ]
    },
    {
     "name": "stdout",
     "output_type": "stream",
     "text": [
      "11 is not a happy number.\n"
     ]
    }
   ],
   "source": [
    "num = int(input(\"Enter a number: \"))\n",
    "n = num  \n",
    "seen = set()\n",
    "while n != 1 and n not in seen:\n",
    "    seen.add(n)\n",
    "    n = sum(int(digit) ** 2 for digit in str(n))\n",
    "if n == 1:\n",
    "    print(f\"{num} is a happy number!\")\n",
    "else:\n",
    "    print(f\"{num} is not a happy number.\")\n"
   ]
  },
  {
   "cell_type": "code",
   "execution_count": null,
   "id": "8ec6def4-07f3-4499-ac64-6a50a48e337e",
   "metadata": {},
   "outputs": [],
   "source": []
  },
  {
   "cell_type": "code",
   "execution_count": null,
   "id": "3bf8af83-e880-43c0-9661-482fd70fc8bd",
   "metadata": {},
   "outputs": [],
   "source": []
  }
 ],
 "metadata": {
  "kernelspec": {
   "display_name": "Python 3 (ipykernel)",
   "language": "python",
   "name": "python3"
  },
  "language_info": {
   "codemirror_mode": {
    "name": "ipython",
    "version": 3
   },
   "file_extension": ".py",
   "mimetype": "text/x-python",
   "name": "python",
   "nbconvert_exporter": "python",
   "pygments_lexer": "ipython3",
   "version": "3.12.7"
  }
 },
 "nbformat": 4,
 "nbformat_minor": 5
}
