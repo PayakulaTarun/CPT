{
 "cells": [
  {
   "cell_type": "markdown",
   "id": "5cdd0f8c",
   "metadata": {},
   "source": [
    "day-6"
   ]
  },
  {
   "cell_type": "code",
   "execution_count": 3,
   "id": "b31d85e0",
   "metadata": {},
   "outputs": [
    {
     "name": "stdout",
     "output_type": "stream",
     "text": [
      "hello henry\n",
      "hello vijay\n"
     ]
    }
   ],
   "source": [
    "def hi(name='henry'):\n",
    "    print(f'hello {name}')\n",
    "hi()\n",
    "hi('vijay')"
   ]
  },
  {
   "cell_type": "code",
   "execution_count": 5,
   "id": "1efdf32a",
   "metadata": {},
   "outputs": [
    {
     "name": "stdout",
     "output_type": "stream",
     "text": [
      "student constructer\n",
      "person constructer\n"
     ]
    }
   ],
   "source": [
    "class student:\n",
    "    def __init__(self, name):\n",
    "        self.name = name\n",
    "        print(\"student constructer\")\n",
    "class person(student):\n",
    "    def __init__(self, name, grade):\n",
    "        super().__init__(name)\n",
    "        self.grade = grade\n",
    "        print(\"person constructer\")\n",
    "s = person('vijay','F')"
   ]
  },
  {
   "cell_type": "code",
   "execution_count": null,
   "id": "979c2dec",
   "metadata": {},
   "outputs": [],
   "source": []
  }
 ],
 "metadata": {
  "kernelspec": {
   "display_name": "Python (myenv)",
   "language": "python",
   "name": "myenv"
  },
  "language_info": {
   "codemirror_mode": {
    "name": "ipython",
    "version": 3
   },
   "file_extension": ".py",
   "mimetype": "text/x-python",
   "name": "python",
   "nbconvert_exporter": "python",
   "pygments_lexer": "ipython3",
   "version": "3.12.6"
  }
 },
 "nbformat": 4,
 "nbformat_minor": 5
}
