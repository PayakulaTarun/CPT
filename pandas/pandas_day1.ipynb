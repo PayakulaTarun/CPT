{
 "cells": [
  {
   "cell_type": "code",
   "execution_count": 4,
   "id": "206b2a0e",
   "metadata": {},
   "outputs": [
    {
     "name": "stdout",
     "output_type": "stream",
     "text": [
      "enter 3 names seperated with spaces: \n",
      "enter 3 index labels: \n",
      "Created series: \n",
      " hello    hello\n",
      "world    world\n",
      "name      name\n",
      "dtype: object\n"
     ]
    }
   ],
   "source": [
    "import pandas as pd\n",
    "print(\"enter 3 names seperated with spaces: \")\n",
    "names = input().strip().split()\n",
    "print(\"enter 3 index labels: \")\n",
    "indices = input().strip().split()\n",
    "try:\n",
    "    if len(names) !=3 or len(indices) !=3:\n",
    "        raise ValueError(\"please provide exact names with indices\")\n",
    "    series = pd.Series(data= names,index= indices)\n",
    "    print(\"Created series: \\n\",series)\n",
    "except ValueError as e:\n",
    "    print(f\"Error:{e}\")"
   ]
  },
  {
   "cell_type": "code",
   "execution_count": 6,
   "id": "62c2c3b4",
   "metadata": {},
   "outputs": [
    {
     "name": "stdout",
     "output_type": "stream",
     "text": [
      "enter 4 random numbers, spaces seperated : \n",
      "0    1.0\n",
      "1    2.0\n",
      "2    3.0\n",
      "3    4.0\n",
      "dtype: float64\n",
      "Values greater than 10: \n",
      "\n",
      "Series([], dtype: float64)\n"
     ]
    }
   ],
   "source": [
    "import pandas as pd\n",
    "print(\"enter 4 random numbers, spaces seperated : \")\n",
    "numbers= input().strip().split()\n",
    "numbers= [float(num) for num in numbers]\n",
    "try:\n",
    "    if len(numbers) != 4:\n",
    "        raise ValueError(\"please provide exact 4 numbers\")\n",
    "    total_data= pd.Series(numbers)\n",
    "    print(total_data)\n",
    "\n",
    "    filtered= total_data[total_data>10]\n",
    "    print(\"Values greater than 10: \\n\")\n",
    "    print(filtered)\n",
    "except ValueError as e:\n",
    "    print(f\"Error:{e}\")"
   ]
  },
  {
   "cell_type": "code",
   "execution_count": 8,
   "id": "59040280",
   "metadata": {},
   "outputs": [
    {
     "name": "stdout",
     "output_type": "stream",
     "text": [
      "enter 5 strings, spaces seperated : \n",
      "substring: \n",
      "\n",
      " Orginal Series: \n",
      "\n",
      "0    f\n",
      "1    g\n",
      "2    d\n",
      "3    s\n",
      "4    s\n",
      "dtype: object\n",
      "strings containing 'fd s a a f' (case-insensitive): \n",
      "No strings found\n"
     ]
    }
   ],
   "source": [
    "\"\"\"string filters\n",
    "code elobrate how to filter string data in series basedon insensitivity)\n",
    "\"\"\"\n",
    "\n",
    "import pandas as pd\n",
    "print(\"enter 5 strings, spaces seperated : \")\n",
    "strings= input().strip().split()\n",
    "print(\"substring: \")\n",
    "substring= input().strip()\n",
    "try:\n",
    "    if len(strings) != 5:\n",
    "        raise ValueError(\"please provide exact 5 strings only \")\n",
    "    series= pd.Series(strings)\n",
    "    print(\"\\n Orginal Series: \\n\")\n",
    "    print(series)\n",
    "    filtered_series= series[series.str.lower().str.contains(substring.lower(),na=False)]\n",
    "    print(f\"strings containing '{substring}' (case-insensitive): \")\n",
    "    print(filtered_series if not filtered_series.empty else \"No strings found\")\n",
    "\n",
    "except ValueError as e:\n",
    "    print(f\"Error:{e}\")"
   ]
  },
  {
   "cell_type": "code",
   "execution_count": 9,
   "id": "1ad244cc",
   "metadata": {},
   "outputs": [
    {
     "name": "stdout",
     "output_type": "stream",
     "text": [
      "Original Series: \n",
      "\n",
      "a    10.0\n",
      "b     NaN\n",
      "c    30.0\n",
      "d     NaN\n",
      "e    50.0\n",
      "dtype: float64\n",
      "\n",
      " Missing values: \n",
      "\n",
      "a    False\n",
      "b     True\n",
      "c    False\n",
      "d     True\n",
      "e    False\n",
      "dtype: bool\n",
      "\n",
      " Series after filling missing values with 0: \n",
      "\n",
      "a    10.0\n",
      "b     0.0\n",
      "c    30.0\n",
      "d     0.0\n",
      "e    50.0\n",
      "dtype: float64\n",
      "\n",
      " Series after dropping missing values: \n",
      "\n",
      "a    10.0\n",
      "c    30.0\n",
      "e    50.0\n",
      "dtype: float64\n"
     ]
    }
   ],
   "source": [
    "'''missing '''\n",
    "import numpy as np\n",
    "import pandas as pd\n",
    "series = pd.Series([10,np.nan,30,np.nan,50],index=['a','b','c','d','e'])\n",
    "print(\"Original Series: \\n\")\n",
    "print(series)\n",
    "#check missing values\n",
    "print(\"\\n Missing values: \\n\")\n",
    "print(series.isna())\n",
    "# replace nan wirh 0\n",
    "filled_series= series.fillna(0)\n",
    "print(\"\\n Series after filling missing values with 0: \\n\")\n",
    "print(filled_series)\n",
    "# missing values deletion\n",
    "droped_series= series.dropna()\n",
    "print(\"\\n Series after dropping missing values: \\n\")\n",
    "print(droped_series)"
   ]
  },
  {
   "cell_type": "code",
   "execution_count": 3,
   "id": "807b7211",
   "metadata": {},
   "outputs": [
    {
     "name": "stdout",
     "output_type": "stream",
     "text": [
      "enter 5 numbers, spaces seperated: \n",
      "Error: please enter exactly 5 numbers only\n"
     ]
    }
   ],
   "source": [
    "\"\"\" statistical operations\"\"\"\n",
    "import pandas as pd\n",
    "print(\"enter 5 numbers, spaces seperated: \")\n",
    "numbers = input().strip().split()\n",
    "numbers = [float(num) for num in numbers]\n",
    "try:\n",
    "    if len(numbers) !=5:\n",
    "        raise  ValueError(\"please enter exactly 5 numbers only\")\n",
    "    series = pd.Series(numbers,index=['a','b','c','d','e'])\n",
    "    print(\"\\n Original Series: \\n\")\n",
    "    print(series)\n",
    "    '''Statistics'''\n",
    "    print(\"\\n Statistics: \\n\")\n",
    "    print(f\"mean: {series.mean()}\")\n",
    "    print(f\"sum:{series.sum()}\")\n",
    "    print(f\"max: {series.max()}\")\n",
    "    print(f\"min: {series.min()}\")\n",
    "    '''Attributes'''\n",
    "    print(\"\\n Attributes: \\n\")\n",
    "    print(f\"Index: {series.index.to_list()}\")\n",
    "    print(f\"Values: {series.values}\")\n",
    "    print(f\"Datatype: {series.dtype}\")\n",
    "except ValueError as e:\n",
    "    print(f\"Error: {e}\")"
   ]
  },
  {
   "cell_type": "code",
   "execution_count": 11,
   "id": "3ac6df4e",
   "metadata": {},
   "outputs": [
    {
     "name": "stdout",
     "output_type": "stream",
     "text": [
      "enter 4 numbers, spaces seperated: \n",
      "\n",
      " Original Series: \n",
      "\n",
      "a    1.0\n",
      "b    2.0\n",
      "c    4.0\n",
      "d    5.0\n",
      "dtype: float64\n",
      "\n",
      " Doubling values: \n",
      "\n",
      "a     2.0\n",
      "b     4.0\n",
      "c     8.0\n",
      "d    10.0\n",
      "dtype: float64\n",
      "\n",
      " series after adding 100:\n",
      "a    101.0\n",
      "b    102.0\n",
      "c    104.0\n",
      "d    105.0\n",
      "dtype: float64\n"
     ]
    }
   ],
   "source": [
    "import pandas as pd\n",
    "print(\"enter 4 numbers, spaces seperated: \")\n",
    "numbers = input().strip().split()\n",
    "numbers = [float(num) for num in numbers]\n",
    "try:\n",
    "    if len(numbers) !=4:\n",
    "        raise ValueError(\"please enter exactly 4 numbers only\")\n",
    "    series = pd.Series(numbers,index=['a','b','c','d'])\n",
    "    print(\"\\n Original Series: \\n\")\n",
    "    print(series)\n",
    "# doubling values vector operations\n",
    "    doubled = series*2\n",
    "    print(\"\\n Doubling values: \\n\")\n",
    "    print(doubled)\n",
    "    # adding 100 to all values vector operations\n",
    "    added = series+100\n",
    "    print(\"\\n series after adding 100:\")\n",
    "    print(added)\n",
    "except ValueError as e:\n",
    "    print(f\"Error: {e}\")"
   ]
  },
  {
   "cell_type": "code",
   "execution_count": 7,
   "id": "3ac657f9",
   "metadata": {},
   "outputs": [
    {
     "name": "stdout",
     "output_type": "stream",
     "text": [
      "----Enter 1---- row values:\n",
      "----Enter 2---- row values:\n",
      "----Enter 3---- row values:\n",
      "\n",
      " Data Frame created\n",
      "\n",
      "   Name  Age Branch\n",
      "0   hhh   22    333\n",
      "1  hrhr   22    543\n",
      "2  jeje   22     55\n",
      "Name      jeje\n",
      "Age         22\n",
      "Branch      55\n",
      "Name: 2, dtype: object\n"
     ]
    }
   ],
   "source": [
    "import pandas as pd\n",
    "n = int(input(\"Enter the number of profiles: \"))\n",
    "names=[]\n",
    "ages=[]\n",
    "branches=[]\n",
    "for i in range(n):\n",
    "    print(f\"----Enter {i+1}---- row values:\")\n",
    "    name = input(\"enter name: \")\n",
    "    age = int(input(\"enter age: \"))\n",
    "    branch = input(\"enter the branch: \")\n",
    "    names.append(name)\n",
    "    ages.append(age)\n",
    "    branches.append(branch)\n",
    "data= {'Name':names,'Age':ages,'Branch': branches}\n",
    "df=pd.DataFrame(data)\n",
    "print(\"\\n Data Frame created\\n\")\n",
    "print(df)\n",
    "print(df.iloc[2])"
   ]
  },
  {
   "cell_type": "code",
   "execution_count": 15,
   "id": "1ed59c1a",
   "metadata": {},
   "outputs": [
    {
     "name": "stdout",
     "output_type": "stream",
     "text": [
      "Data Frame created:\n",
      "\n",
      "      name  age branch\n",
      "0    Alice   25     CS\n",
      "1      Bob   30     IT\n",
      "2  Charlie   35    ECE\n",
      "0      Alice\n",
      "1        Bob\n",
      "2    Charlie\n",
      "Name: name, dtype: object\n",
      "name      Bob\n",
      "age        30\n",
      "branch     IT\n",
      "Name: 1, dtype: object\n",
      "      name  age branch\n",
      "0    Alice   25     CS\n",
      "1      Bob   30     IT\n",
      "2  Charlie   35    ECE\n",
      "      name  salary  age branch\n",
      "0    Alice   10000   25     CS\n",
      "1      Bob   11000   30     IT\n",
      "2  Charlie   12000   35    ECE\n",
      "\n",
      " Data Frame after updating Charlie's age:\n",
      "\n",
      "      name  salary  age branch\n",
      "0    Alice   10000   25     CS\n",
      "1      Bob   11000   30     IT\n",
      "2  Charlie   12000   40    ECE\n"
     ]
    }
   ],
   "source": [
    "import pandas as pd\n",
    "data={'name': ['Alice', 'Bob', 'Charlie'],\n",
    "      'age': [25, 30, 35],\n",
    "      'branch': ['CS', 'IT', 'ECE']}\n",
    "dframe = pd.DataFrame(data)\n",
    "print(\"Data Frame created:\\n\")\n",
    "print(dframe)\n",
    "print(dframe['name'])\n",
    "print(dframe.iloc[1])  # Accessing the second row\n",
    "stipand = [10000,11000,12000]\n",
    "print(dframe)\n",
    "dframe.insert(1, 'salary', stipand)  # Inserting a new column 'stipend'\n",
    "print(dframe)\n",
    "dframe.at[2,'age'] = 40  # Updating the age of Charlie\n",
    "print(\"\\n Data Frame after updating Charlie's age:\\n\")\n",
    "print(dframe)"
   ]
  },
  {
   "cell_type": "code",
   "execution_count": 19,
   "id": "a21a5fd4",
   "metadata": {},
   "outputs": [
    {
     "name": "stdout",
     "output_type": "stream",
     "text": [
      "Created data successfully...\n"
     ]
    }
   ],
   "source": [
    "# ''' data to csv file'''\n",
    "hospital_data = {\n",
    "    'Patient_ID': ['P001', 'P002', 'P003', 'P004', 'P005', 'P006'],\n",
    "    'Name': ['John', 'Mary', 'Jane', 'Peter', 'Linda', 'Tom'],\n",
    "    'Age': [25, 30, 35, 40, 45, 50],\n",
    "    'Department': ['carona', 'cancer', 'neurology', 'cardiology', 'cancer', 'carona'],\n",
    "    'Gender': ['M', 'F', 'F', 'M', 'F', 'M'],\n",
    "    'Bill': [23420.33, 34320.23, 76000.00, 20000.00, 30000.00, None]\n",
    "}\n",
    "df = pd.DataFrame(data)\n",
    "hospital_df = pd.DataFrame(hospital_data)\n",
    "hospital_df.to_csv('hospital_data.csv', index=False)\n",
    "print(\"Created data successfully...\")"
   ]
  },
  {
   "cell_type": "code",
   "execution_count": null,
   "id": "5eabd558",
   "metadata": {},
   "outputs": [
    {
     "name": "stdout",
     "output_type": "stream",
     "text": [
      "\n",
      " Hospital dataframe: \n",
      "  Patient_ID   Name  Age  Department Gender      Bill\n",
      "0       P001   John   25      carona      M  23420.33\n",
      "1       P002   Mary   30      cancer      F  34320.23\n",
      "2       P003   Jane   35   neurology      F  76000.00\n",
      "3       P004  Peter   40  cardiology      M  20000.00\n",
      "4       P005  Linda   45      cancer      F  30000.00\n",
      "5       P006    Tom   50      carona      M       NaN\n",
      "\n",
      " Basic info of the dataframe: \n",
      "<class 'pandas.core.frame.DataFrame'>\n",
      "RangeIndex: 6 entries, 0 to 5\n",
      "Data columns (total 6 columns):\n",
      " #   Column      Non-Null Count  Dtype  \n",
      "---  ------      --------------  -----  \n",
      " 0   Patient_ID  6 non-null      object \n",
      " 1   Name        6 non-null      object \n",
      " 2   Age         6 non-null      int64  \n",
      " 3   Department  6 non-null      object \n",
      " 4   Gender      6 non-null      object \n",
      " 5   Bill        5 non-null      float64\n",
      "dtypes: float64(1), int64(1), object(4)\n",
      "memory usage: 420.0+ bytes\n",
      "None\n",
      "\n",
      " Summary Statistics: \n",
      "             Age          Bill\n",
      "count   6.000000      5.000000\n",
      "mean   37.500000  36748.112000\n",
      "std     9.354143  22639.961168\n",
      "min    25.000000  20000.000000\n",
      "25%    31.250000  23420.330000\n",
      "50%    37.500000  30000.000000\n",
      "75%    43.750000  34320.230000\n",
      "max    50.000000  76000.000000\n"
     ]
    },
    {
     "ename": "",
     "evalue": "",
     "output_type": "error",
     "traceback": [
      "\u001b[1;31mThe Kernel crashed while executing code in the current cell or a previous cell. \n",
      "\u001b[1;31mPlease review the code in the cell(s) to identify a possible cause of the failure. \n",
      "\u001b[1;31mClick <a href='https://aka.ms/vscodeJupyterKernelCrash'>here</a> for more info. \n",
      "\u001b[1;31mView Jupyter <a href='command:jupyter.viewOutput'>log</a> for further details."
     ]
    }
   ],
   "source": [
    "import pandas as pd\n",
    "try:\n",
    "    df = pd.read_csv('hospital_data.csv')\n",
    "    print(\"\\n Hospital dataframe: \")\n",
    "    print(df)\n",
    "#Display basic info\n",
    "    print(\"\\n Basic info of the dataframe: \")\n",
    "    print(df.info())\n",
    "    print(\"\\n Summary Statistics: \")\n",
    "    print(df.describe())\n",
    "except FileNotFoundError:\n",
    "    print(\"Error: 'hospital_data.csv'  not found\")"
   ]
  },
  {
   "cell_type": "code",
   "execution_count": null,
   "id": "75b673fd",
   "metadata": {},
   "outputs": [],
   "source": []
  }
 ],
 "metadata": {
  "kernelspec": {
   "display_name": "Python (myenv)",
   "language": "python",
   "name": "myenv"
  },
  "language_info": {
   "codemirror_mode": {
    "name": "ipython",
    "version": 3
   },
   "file_extension": ".py",
   "mimetype": "text/x-python",
   "name": "python",
   "nbconvert_exporter": "python",
   "pygments_lexer": "ipython3",
   "version": "3.12.6"
  }
 },
 "nbformat": 4,
 "nbformat_minor": 5
}
