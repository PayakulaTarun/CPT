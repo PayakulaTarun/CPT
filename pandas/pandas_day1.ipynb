{
 "cells": [
  {
   "cell_type": "code",
   "execution_count": 4,
   "id": "206b2a0e",
   "metadata": {},
   "outputs": [
    {
     "name": "stdout",
     "output_type": "stream",
     "text": [
      "enter 3 names seperated with spaces: \n",
      "enter 3 index labels: \n",
      "Created series: \n",
      " hello    hello\n",
      "world    world\n",
      "name      name\n",
      "dtype: object\n"
     ]
    }
   ],
   "source": [
    "import pandas as pd\n",
    "print(\"enter 3 names seperated with spaces: \")\n",
    "names = input().strip().split()\n",
    "print(\"enter 3 index labels: \")\n",
    "indices = input().strip().split()\n",
    "try:\n",
    "    if len(names) !=3 or len(indices) !=3:\n",
    "        raise ValueError(\"please provide exact names with indices\")\n",
    "    series = pd.Series(data= names,index= indices)\n",
    "    print(\"Created series: \\n\",series)\n",
    "except ValueError as e:\n",
    "    print(f\"Error:{e}\")"
   ]
  },
  {
   "cell_type": "code",
   "execution_count": 6,
   "id": "62c2c3b4",
   "metadata": {},
   "outputs": [
    {
     "name": "stdout",
     "output_type": "stream",
     "text": [
      "enter 4 random numbers, spaces seperated : \n",
      "0    1.0\n",
      "1    2.0\n",
      "2    3.0\n",
      "3    4.0\n",
      "dtype: float64\n",
      "Values greater than 10: \n",
      "\n",
      "Series([], dtype: float64)\n"
     ]
    }
   ],
   "source": [
    "import pandas as pd\n",
    "print(\"enter 4 random numbers, spaces seperated : \")\n",
    "numbers= input().strip().split()\n",
    "numbers= [float(num) for num in numbers]\n",
    "try:\n",
    "    if len(numbers) != 4:\n",
    "        raise ValueError(\"please provide exact 4 numbers\")\n",
    "    total_data= pd.Series(numbers)\n",
    "    print(total_data)\n",
    "\n",
    "    filtered= total_data[total_data>10]\n",
    "    print(\"Values greater than 10: \\n\")\n",
    "    print(filtered)\n",
    "except ValueError as e:\n",
    "    print(f\"Error:{e}\")"
   ]
  },
  {
   "cell_type": "code",
   "execution_count": 8,
   "id": "59040280",
   "metadata": {},
   "outputs": [
    {
     "name": "stdout",
     "output_type": "stream",
     "text": [
      "enter 5 strings, spaces seperated : \n",
      "substring: \n",
      "\n",
      " Orginal Series: \n",
      "\n",
      "0    f\n",
      "1    g\n",
      "2    d\n",
      "3    s\n",
      "4    s\n",
      "dtype: object\n",
      "strings containing 'fd s a a f' (case-insensitive): \n",
      "No strings found\n"
     ]
    }
   ],
   "source": [
    "\"\"\"string filters\n",
    "code elobrate how to filter string data in series basedon insensitivity)\n",
    "\"\"\"\n",
    "\n",
    "import pandas as pd\n",
    "print(\"enter 5 strings, spaces seperated : \")\n",
    "strings= input().strip().split()\n",
    "print(\"substring: \")\n",
    "substring= input().strip()\n",
    "try:\n",
    "    if len(strings) != 5:\n",
    "        raise ValueError(\"please provide exact 5 strings only \")\n",
    "    series= pd.Series(strings)\n",
    "    print(\"\\n Orginal Series: \\n\")\n",
    "    print(series)\n",
    "    filtered_series= series[series.str.lower().str.contains(substring.lower(),na=False)]\n",
    "    print(f\"strings containing '{substring}' (case-insensitive): \")\n",
    "    print(filtered_series if not filtered_series.empty else \"No strings found\")\n",
    "\n",
    "except ValueError as e:\n",
    "    print(f\"Error:{e}\")"
   ]
  },
  {
   "cell_type": "code",
   "execution_count": 9,
   "id": "1ad244cc",
   "metadata": {},
   "outputs": [
    {
     "name": "stdout",
     "output_type": "stream",
     "text": [
      "Original Series: \n",
      "\n",
      "a    10.0\n",
      "b     NaN\n",
      "c    30.0\n",
      "d     NaN\n",
      "e    50.0\n",
      "dtype: float64\n",
      "\n",
      " Missing values: \n",
      "\n",
      "a    False\n",
      "b     True\n",
      "c    False\n",
      "d     True\n",
      "e    False\n",
      "dtype: bool\n",
      "\n",
      " Series after filling missing values with 0: \n",
      "\n",
      "a    10.0\n",
      "b     0.0\n",
      "c    30.0\n",
      "d     0.0\n",
      "e    50.0\n",
      "dtype: float64\n",
      "\n",
      " Series after dropping missing values: \n",
      "\n",
      "a    10.0\n",
      "c    30.0\n",
      "e    50.0\n",
      "dtype: float64\n"
     ]
    }
   ],
   "source": [
    "'''missing '''\n",
    "import numpy as np\n",
    "import pandas as pd\n",
    "series = pd.Series([10,np.nan,30,np.nan,50],index=['a','b','c','d','e'])\n",
    "print(\"Original Series: \\n\")\n",
    "print(series)\n",
    "#check missing values\n",
    "print(\"\\n Missing values: \\n\")\n",
    "print(series.isna())\n",
    "# replace nan wirh 0\n",
    "filled_series= series.fillna(0)\n",
    "print(\"\\n Series after filling missing values with 0: \\n\")\n",
    "print(filled_series)\n",
    "# missing values deletion\n",
    "droped_series= series.dropna()\n",
    "print(\"\\n Series after dropping missing values: \\n\")\n",
    "print(droped_series)"
   ]
  },
  {
   "cell_type": "code",
   "execution_count": 10,
   "id": "807b7211",
   "metadata": {},
   "outputs": [
    {
     "name": "stdout",
     "output_type": "stream",
     "text": [
      "enter 5 numbers, spaces seperated: \n",
      "\n",
      " Original Series: \n",
      "\n",
      "a    1.0\n",
      "b    2.0\n",
      "c    3.0\n",
      "d    4.0\n",
      "e    5.0\n",
      "dtype: float64\n",
      "\n",
      " Statistics: \n",
      "\n",
      "mean: 3.0\n",
      "sum:15.0\n",
      "max: 5.0\n",
      "min: 1.0\n",
      "\n",
      " Attributes: \n",
      "\n",
      "Index: ['a', 'b', 'c', 'd', 'e']\n",
      "Values: [1. 2. 3. 4. 5.]\n",
      "Datatype: float64\n"
     ]
    }
   ],
   "source": [
    "\"\"\" statistical operations\"\"\"\n",
    "import pandas as pd\n",
    "print(\"enter 5 numbers, spaces seperated: \")\n",
    "numbers = input().strip().split()\n",
    "numbers = [float(num) for num in numbers]\n",
    "try:\n",
    "    if len(numbers) !=5:\n",
    "        raise  ValueError(\"please enter exactly 5 numbers only\")\n",
    "    series = pd.Series(numbers,index=['a','b','c','d','e'])\n",
    "    print(\"\\n Original Series: \\n\")\n",
    "    print(series)\n",
    "    '''Statistics'''\n",
    "    print(\"\\n Statistics: \\n\")\n",
    "    print(f\"mean: {series.mean()}\")\n",
    "    print(f\"sum:{series.sum()}\")\n",
    "    print(f\"max: {series.max()}\")\n",
    "    print(f\"min: {series.min()}\")\n",
    "    '''Attributes'''\n",
    "    print(\"\\n Attributes: \\n\")\n",
    "    print(f\"Index: {series.index.to_list()}\")\n",
    "    print(f\"Values: {series.values}\")\n",
    "    print(f\"Datatype: {series.dtype}\")\n",
    "except ValueError as e:\n",
    "    print(f\"Error: {e}\")"
   ]
  },
  {
   "cell_type": "code",
   "execution_count": null,
   "id": "3ac6df4e",
   "metadata": {},
   "outputs": [],
   "source": []
  }
 ],
 "metadata": {
  "kernelspec": {
   "display_name": "Python (myenv)",
   "language": "python",
   "name": "myenv"
  },
  "language_info": {
   "codemirror_mode": {
    "name": "ipython",
    "version": 3
   },
   "file_extension": ".py",
   "mimetype": "text/x-python",
   "name": "python",
   "nbconvert_exporter": "python",
   "pygments_lexer": "ipython3",
   "version": "3.12.6"
  }
 },
 "nbformat": 4,
 "nbformat_minor": 5
}
