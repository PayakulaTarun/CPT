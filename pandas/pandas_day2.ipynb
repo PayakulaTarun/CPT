{
 "cells": [
  {
   "cell_type": "code",
   "execution_count": 5,
   "id": "b971c676",
   "metadata": {},
   "outputs": [
    {
     "name": "stdout",
     "output_type": "stream",
     "text": [
      "    fruit  price\n",
      "0   apple   1.20\n",
      "1  banana   0.50\n",
      "2  cherry   0.75\n"
     ]
    }
   ],
   "source": [
    "import pandas as pd\n",
    "names = pd.Series(['apple', 'banana', 'cherry'])\n",
    "df = names.to_frame(name='fruit')\n",
    "df['price'] = [1.2, 0.5, 0.75]\n",
    "print(df)"
   ]
  },
  {
   "cell_type": "code",
   "execution_count": 6,
   "id": "555af4ba",
   "metadata": {},
   "outputs": [
    {
     "name": "stdout",
     "output_type": "stream",
     "text": [
      "\n",
      " Orginal Hospital Dataframe:\n",
      "  Patient_ID   Name  Age  Department Gender      Bill\n",
      "0       P001   John   25      carona      M  23420.33\n",
      "1       P002   Mary   30      cancer      F  34320.23\n",
      "2       P003   Jane   35   neurology      F  76000.00\n",
      "3       P004  Peter   40  cardiology      M  20000.00\n",
      "4       P005  Linda   45      cancer      F  30000.00\n",
      "5       P006    Tom   50      carona      M       NaN\n",
      "\n",
      " Average Bill by Department:\n",
      "Department\n",
      "cancer        32160.115\n",
      "cardiology    20000.000\n",
      "carona        23420.330\n",
      "neurology     76000.000\n",
      "Name: Bill, dtype: float64\n"
     ]
    }
   ],
   "source": [
    "import pandas as pd\n",
    "try:\n",
    "    df = pd.read_csv('hospital_data.csv')\n",
    "    print(\"\\n Orginal Hospital Dataframe:\")\n",
    "    print(df)\n",
    "    grouped = df.groupby('Department')['Bill'].mean()\n",
    "    print(\"\\n Average Bill by Department:\")\n",
    "    print(grouped)\n",
    "except FileNotFoundError:\n",
    "    print(\"File not found. Please ensure 'hospital_data.csv' exists in the current directory.\")"
   ]
  },
  {
   "cell_type": "code",
   "execution_count": 7,
   "id": "205404f3",
   "metadata": {},
   "outputs": [
    {
     "name": "stdout",
     "output_type": "stream",
     "text": [
      "\n",
      " Orginal Hospital Dataframe:\n",
      "  Patient_ID   Name  Age  Department Gender      Bill\n",
      "0       P001   John   25      carona      M  23420.33\n",
      "1       P002   Mary   30      cancer      F  34320.23\n",
      "2       P003   Jane   35   neurology      F  76000.00\n",
      "3       P004  Peter   40  cardiology      M  20000.00\n",
      "4       P005  Linda   45      cancer      F  30000.00\n",
      "5       P006    Tom   50      carona      M       NaN\n",
      "\n",
      " Sorted Dataframe by Discounted Bill:\n",
      "  Patient_ID   Name  Age  Department Gender      Bill  Discounted_Bill\n",
      "2       P003   Jane   35   neurology      F  76000.00        68400.000\n",
      "1       P002   Mary   30      cancer      F  34320.23        30888.207\n",
      "4       P005  Linda   45      cancer      F  30000.00        27000.000\n",
      "0       P001   John   25      carona      M  23420.33        21078.297\n",
      "3       P004  Peter   40  cardiology      M  20000.00        18000.000\n",
      "5       P006    Tom   50      carona      M       NaN              NaN\n"
     ]
    }
   ],
   "source": [
    "import pandas as pd\n",
    "try:\n",
    "    df = pd.read_csv('hospital_data.csv')\n",
    "    print(\"\\n Orginal Hospital Dataframe:\")\n",
    "    print(df)\n",
    "    df['Discounted_Bill'] = df['Bill'] * 0.9\n",
    "    sorted_df = df.sort_values(by='Discounted_Bill', ascending=False)\n",
    "    print(\"\\n Sorted Dataframe by Discounted Bill:\")\n",
    "    print(sorted_df)\n",
    "except FileNotFoundError:\n",
    "    print(\"File not found. Please ensure 'hospital_data.csv' exists in the current directory.\")"
   ]
  },
  {
   "cell_type": "code",
   "execution_count": 11,
   "id": "0bd179ca",
   "metadata": {},
   "outputs": [
    {
     "name": "stdout",
     "output_type": "stream",
     "text": [
      "\n",
      " Orginal hospital DataFrame\n",
      "  Patient_ID   Name  Age  Department Gender      Bill\n",
      "0       P001   John   25      carona      M  23420.33\n",
      "1       P002   Mary   30      cancer      F  34320.23\n",
      "2       P003   Jane   35   neurology      F  76000.00\n",
      "3       P004  Peter   40  cardiology      M  20000.00\n",
      "4       P005  Linda   45      cancer      F  30000.00\n",
      "5       P006    Tom   50      carona      M       NaN\n",
      "\n",
      " data fraame eith status column\n",
      "  Patient_ID   Name  Age  Department Gender      Bill  Status\n",
      "0       P001   John   25      carona      M  23420.33   Adult\n",
      "1       P002   Mary   30      cancer      F  34320.23   Adult\n",
      "2       P003   Jane   35   neurology      F  76000.00   Adult\n",
      "3       P004  Peter   40  cardiology      M  20000.00   Adult\n",
      "4       P005  Linda   45      cancer      F  30000.00   Adult\n",
      "5       P006    Tom   50      carona      M       NaN  Senior\n",
      "\n",
      " modified dataframe saved to 'hospital_data_updated.csv'. \n"
     ]
    }
   ],
   "source": [
    "import pandas as pd\n",
    "try:\n",
    "    df= pd.read_csv('hospital_data.csv')\n",
    "    print(\"\\n Orginal hospital DataFrame\")\n",
    "    print(df)\n",
    "# add a status coloumn based on age\n",
    "    df['Status']=df['Age'].apply(lambda x:'Senior' if x>=50 else 'Adult' if x>=18 else 'Unknown')\n",
    "    print(\"\\n data fraame eith status column\")\n",
    "    print(df)\n",
    "# Saving to csv\n",
    "    df.to_csv('Hospital_data_updated.csv',index= True)\n",
    "    print(\"\\n modified dataframe saved to 'hospital_data_updated.csv'. \")\n",
    "except FileNotFoundError:\n",
    "    print(\"Error: 'hospital_data.csv' not found\")"
   ]
  },
  {
   "cell_type": "code",
   "execution_count": 3,
   "id": "d57d8ea6",
   "metadata": {},
   "outputs": [
    {
     "name": "stdout",
     "output_type": "stream",
     "text": [
      "\n",
      " Orginal hospital Bill\n",
      "0    23420.33\n",
      "1    34320.23\n",
      "2    76000.00\n",
      "3    20000.00\n",
      "4    30000.00\n",
      "5         NaN\n",
      "Name: Bill, dtype: float64\n",
      "enter patient id to update: \n",
      "enter the new bill for P001: \n",
      "\n",
      " Updated Medical Bill series.\n",
      "0    12345.00\n",
      "1    34320.23\n",
      "2    76000.00\n",
      "3    20000.00\n",
      "4    30000.00\n",
      "5         NaN\n",
      "Name: Bill, dtype: float64\n",
      "|Updated csv saved to hospital_data_updated.csv\n"
     ]
    },
    {
     "name": "stderr",
     "output_type": "stream",
     "text": [
      "C:\\Users\\payak\\AppData\\Local\\Temp\\ipykernel_1156\\511000918.py:16: SettingWithCopyWarning: \n",
      "A value is trying to be set on a copy of a slice from a DataFrame\n",
      "\n",
      "See the caveats in the documentation: https://pandas.pydata.org/pandas-docs/stable/user_guide/indexing.html#returning-a-view-versus-a-copy\n",
      "  series[index]= new_cost\n"
     ]
    }
   ],
   "source": [
    "import pandas as pd\n",
    "try:\n",
    "    df= pd.read_csv('hospital_data.csv')\n",
    "    series = df['Bill']\n",
    "    print(\"\\n Orginal hospital Bill\")\n",
    "    print(series)\n",
    "# user manual input\n",
    "    print(\"enter patient id to update: \")\n",
    "    patient_id= input().strip()\n",
    "    print(f\"enter the new bill for {patient_id}: \")\n",
    "    new_cost= float(input())\n",
    "\n",
    "#update bill series and save\n",
    "    if patient_id in df['Patient_ID'].values:\n",
    "        index=df[df['Patient_ID'] == patient_id].index[0]\n",
    "        series[index]= new_cost\n",
    "        print(\"\\n Updated Medical Bill series.\")\n",
    "        print(series)\n",
    "# updated DataFrame and save\n",
    "        df['Bill']= series\n",
    "        df.to_csv('hospital_data.csv',index=False)\n",
    "        print(\"|Updated csv saved to hospital_data_updated.csv\")\n",
    "    else:\n",
    "        print(f\"Error : patient_id {patient_id} not found\")\n",
    "\n",
    "except FileNotFoundError:\n",
    "    print(\"Error: 'hospital_data.csv' not found\")"
   ]
  },
  {
   "cell_type": "code",
   "execution_count": null,
   "id": "ac15ed85",
   "metadata": {},
   "outputs": [],
   "source": []
  }
 ],
 "metadata": {
  "kernelspec": {
   "display_name": "Python (myenv)",
   "language": "python",
   "name": "myenv"
  },
  "language_info": {
   "codemirror_mode": {
    "name": "ipython",
    "version": 3
   },
   "file_extension": ".py",
   "mimetype": "text/x-python",
   "name": "python",
   "nbconvert_exporter": "python",
   "pygments_lexer": "ipython3",
   "version": "3.12.6"
  }
 },
 "nbformat": 4,
 "nbformat_minor": 5
}
