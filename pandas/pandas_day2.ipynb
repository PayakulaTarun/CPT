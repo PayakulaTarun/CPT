{
 "cells": [
  {
   "cell_type": "code",
   "execution_count": 5,
   "id": "b971c676",
   "metadata": {},
   "outputs": [
    {
     "name": "stdout",
     "output_type": "stream",
     "text": [
      "    fruit  price\n",
      "0   apple   1.20\n",
      "1  banana   0.50\n",
      "2  cherry   0.75\n"
     ]
    }
   ],
   "source": [
    "import pandas as pd\n",
    "names = pd.Series(['apple', 'banana', 'cherry'])\n",
    "df = names.to_frame(name='fruit')\n",
    "df['price'] = [1.2, 0.5, 0.75]\n",
    "print(df)"
   ]
  },
  {
   "cell_type": "code",
   "execution_count": null,
   "id": "555af4ba",
   "metadata": {},
   "outputs": [],
   "source": []
  }
 ],
 "metadata": {
  "kernelspec": {
   "display_name": "Python (myenv)",
   "language": "python",
   "name": "myenv"
  },
  "language_info": {
   "codemirror_mode": {
    "name": "ipython",
    "version": 3
   },
   "file_extension": ".py",
   "mimetype": "text/x-python",
   "name": "python",
   "nbconvert_exporter": "python",
   "pygments_lexer": "ipython3",
   "version": "3.12.6"
  }
 },
 "nbformat": 4,
 "nbformat_minor": 5
}
