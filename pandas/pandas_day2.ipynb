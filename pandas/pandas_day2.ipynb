{
 "cells": [
  {
   "cell_type": "code",
   "execution_count": 5,
   "id": "b971c676",
   "metadata": {},
   "outputs": [
    {
     "name": "stdout",
     "output_type": "stream",
     "text": [
      "    fruit  price\n",
      "0   apple   1.20\n",
      "1  banana   0.50\n",
      "2  cherry   0.75\n"
     ]
    }
   ],
   "source": [
    "import pandas as pd\n",
    "names = pd.Series(['apple', 'banana', 'cherry'])\n",
    "df = names.to_frame(name='fruit')\n",
    "df['price'] = [1.2, 0.5, 0.75]\n",
    "print(df)"
   ]
  },
  {
   "cell_type": "code",
   "execution_count": 6,
   "id": "555af4ba",
   "metadata": {},
   "outputs": [
    {
     "name": "stdout",
     "output_type": "stream",
     "text": [
      "\n",
      " Orginal Hospital Dataframe:\n",
      "  Patient_ID   Name  Age  Department Gender      Bill\n",
      "0       P001   John   25      carona      M  23420.33\n",
      "1       P002   Mary   30      cancer      F  34320.23\n",
      "2       P003   Jane   35   neurology      F  76000.00\n",
      "3       P004  Peter   40  cardiology      M  20000.00\n",
      "4       P005  Linda   45      cancer      F  30000.00\n",
      "5       P006    Tom   50      carona      M       NaN\n",
      "\n",
      " Average Bill by Department:\n",
      "Department\n",
      "cancer        32160.115\n",
      "cardiology    20000.000\n",
      "carona        23420.330\n",
      "neurology     76000.000\n",
      "Name: Bill, dtype: float64\n"
     ]
    }
   ],
   "source": [
    "import pandas as pd\n",
    "try:\n",
    "    df = pd.read_csv('hospital_data.csv')\n",
    "    print(\"\\n Orginal Hospital Dataframe:\")\n",
    "    print(df)\n",
    "    grouped = df.groupby('Department')['Bill'].mean()\n",
    "    print(\"\\n Average Bill by Department:\")\n",
    "    print(grouped)\n",
    "except FileNotFoundError:\n",
    "    print(\"File not found. Please ensure 'hospital_data.csv' exists in the current directory.\")"
   ]
  },
  {
   "cell_type": "code",
   "execution_count": null,
   "id": "205404f3",
   "metadata": {},
   "outputs": [],
   "source": []
  }
 ],
 "metadata": {
  "kernelspec": {
   "display_name": "Python (myenv)",
   "language": "python",
   "name": "myenv"
  },
  "language_info": {
   "codemirror_mode": {
    "name": "ipython",
    "version": 3
   },
   "file_extension": ".py",
   "mimetype": "text/x-python",
   "name": "python",
   "nbconvert_exporter": "python",
   "pygments_lexer": "ipython3",
   "version": "3.12.6"
  }
 },
 "nbformat": 4,
 "nbformat_minor": 5
}
