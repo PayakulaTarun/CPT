{
 "cells": [
  {
   "cell_type": "code",
   "execution_count": 2,
   "id": "699477ea",
   "metadata": {},
   "outputs": [
    {
     "name": "stdout",
     "output_type": "stream",
     "text": [
      "100\n",
      "This is a class method\n"
     ]
    }
   ],
   "source": [
    "class abc():\n",
    "    var = 100\n",
    "    def display(self):\n",
    "        print(\"This is a class method\")\n",
    "obj = abc()\n",
    "print(obj.var)\n",
    "obj.display()"
   ]
  },
  {
   "cell_type": "code",
   "execution_count": 9,
   "id": "d359344d",
   "metadata": {},
   "outputs": [
    {
     "name": "stdout",
     "output_type": "stream",
     "text": [
      "object variable : 10\n",
      "class variable : 1\n",
      "object variable : 20\n",
      "class variable : 2\n",
      "object variable : 30\n",
      "class variable : 3\n"
     ]
    }
   ],
   "source": [
    "#class construcor __init__(method)\n",
    "\n",
    "class abc():\n",
    "    cv=0\n",
    "    def __init__(self, val):\n",
    "        abc.cv+=1\n",
    "        self.val=val\n",
    "        print(\"object variable :\",val)\n",
    "        print(\"class variable :\",abc.cv)\n",
    "obj = abc(10)\n",
    "obj1 = abc(20)\n",
    "obj2 = abc(30)"
   ]
  },
  {
   "cell_type": "code",
   "execution_count": 10,
   "id": "f0a94921",
   "metadata": {},
   "outputs": [
    {
     "name": "stdout",
     "output_type": "stream",
     "text": [
      "even number\n"
     ]
    }
   ],
   "source": [
    "\"\"\"code to illustrate the modification of an instance variable to check whether the passing attribute is even or odd\"\"\"\n",
    "class abc():\n",
    "    def __init__(self, val):\n",
    "        self.val=val\n",
    "        if self.val%2==0:\n",
    "            print(\"even number\")\n",
    "        else:\n",
    "            print(\"odd number\")\n",
    "obj = abc(10)"
   ]
  },
  {
   "cell_type": "code",
   "execution_count": null,
   "id": "0a9ed781",
   "metadata": {},
   "outputs": [
    {
     "name": "stdout",
     "output_type": "stream",
     "text": [
      "object variable : 10\n",
      "class variable : 1\n"
     ]
    }
   ],
   "source": []
  },
  {
   "cell_type": "code",
   "execution_count": 23,
   "id": "cf3babad",
   "metadata": {},
   "outputs": [
    {
     "name": "stdout",
     "output_type": "stream",
     "text": [
      "even number: [22, 32, 54, 12]\n",
      "odd number: [21, 23, 11, 13]\n"
     ]
    }
   ],
   "source": [
    "\"segregate the even and odd parameters in a list and print even list and odd list saperately using a class number \"\"n1=number(21)\"\"n2=number(22)\"\"n3=number(32)\"\"n4=number(54)\"\"output: even number:[32,54]\"\"odd number:[21,23]\"\n",
    "\n",
    "class number():\n",
    "    even = []\n",
    "    odd = []\n",
    "    def __init__(self, val):\n",
    "        self.val = val\n",
    "        if self.val % 2 == 0:\n",
    "            number.even.append(self.val)\n",
    "        else:\n",
    "            number.odd.append(self.val)\n",
    "    def display(self):\n",
    "        print(\"even number:\", number.even)\n",
    "        print(\"odd number:\", number.odd)\n",
    "\n",
    "n1 = number(21)\n",
    "n2 = number(22)\n",
    "n3 = number(32)\n",
    "n4 = number(54)\n",
    "n5 = number(23)\n",
    "n6 = number(11)\n",
    "n7 = number(12)\n",
    "n8 = number(13)\n",
    "n1.display()\n"
   ]
  },
  {
   "cell_type": "code",
   "execution_count": null,
   "id": "497024bb",
   "metadata": {},
   "outputs": [],
   "source": []
  }
 ],
 "metadata": {
  "kernelspec": {
   "display_name": "Python (myenv)",
   "language": "python",
   "name": "myenv"
  },
  "language_info": {
   "codemirror_mode": {
    "name": "ipython",
    "version": 3
   },
   "file_extension": ".py",
   "mimetype": "text/x-python",
   "name": "python",
   "nbconvert_exporter": "python",
   "pygments_lexer": "ipython3",
   "version": "3.12.6"
  }
 },
 "nbformat": 4,
 "nbformat_minor": 5
}
