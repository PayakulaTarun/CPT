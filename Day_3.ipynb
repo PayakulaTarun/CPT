{
 "cells": [
  {
   "cell_type": "code",
   "execution_count": 2,
   "id": "699477ea",
   "metadata": {},
   "outputs": [
    {
     "name": "stdout",
     "output_type": "stream",
     "text": [
      "100\n",
      "This is a class method\n"
     ]
    }
   ],
   "source": [
    "class abc():\n",
    "    var = 100\n",
    "    def display(self):\n",
    "        print(\"This is a class method\")\n",
    "obj = abc()\n",
    "print(obj.var)\n",
    "obj.display()"
   ]
  },
  {
   "cell_type": "code",
   "execution_count": 6,
   "id": "d359344d",
   "metadata": {},
   "outputs": [
    {
     "name": "stdout",
     "output_type": "stream",
     "text": [
      "this is a class method\n",
      "this is a : 10\n"
     ]
    }
   ],
   "source": [
    "#class construcor __init__(method)\n",
    "\n",
    "class abc():\n",
    "    def __init__(self, val):\n",
    "        print(\"this is a class method\")\n",
    "        self.val=val\n",
    "        print(\"this is a :\",val)\n",
    "obj = abc(10)"
   ]
  },
  {
   "cell_type": "code",
   "execution_count": null,
   "id": "f0a94921",
   "metadata": {},
   "outputs": [],
   "source": []
  }
 ],
 "metadata": {
  "kernelspec": {
   "display_name": "Python (myenv)",
   "language": "python",
   "name": "myenv"
  },
  "language_info": {
   "codemirror_mode": {
    "name": "ipython",
    "version": 3
   },
   "file_extension": ".py",
   "mimetype": "text/x-python",
   "name": "python",
   "nbconvert_exporter": "python",
   "pygments_lexer": "ipython3",
   "version": "3.12.6"
  }
 },
 "nbformat": 4,
 "nbformat_minor": 5
}
