{
 "cells": [
  {
   "cell_type": "code",
   "execution_count": 16,
   "id": "2aabd7f4",
   "metadata": {},
   "outputs": [],
   "source": [
    "import json"
   ]
  },
  {
   "cell_type": "code",
   "execution_count": 17,
   "id": "ec8e6a84",
   "metadata": {},
   "outputs": [],
   "source": [
    "name = input(\"Enter your name: \")\n",
    "age = int(input(\"Enter your age: \"))"
   ]
  },
  {
   "cell_type": "code",
   "execution_count": 18,
   "id": "25a707a8",
   "metadata": {},
   "outputs": [],
   "source": [
    "user = {\n",
    "    \"name\": name,\n",
    "    \"age\": age\n",
    "    }"
   ]
  },
  {
   "cell_type": "code",
   "execution_count": 19,
   "id": "e40471c0",
   "metadata": {},
   "outputs": [
    {
     "name": "stdout",
     "output_type": "stream",
     "text": [
      "data written to user.json\n"
     ]
    }
   ],
   "source": [
    "with open(\"user.json\", \"w\") as f:\n",
    "    json.dump(user, f)\n",
    "print(\"data written to user.json\")"
   ]
  },
  {
   "cell_type": "code",
   "execution_count": 20,
   "id": "688c5bf2",
   "metadata": {},
   "outputs": [
    {
     "name": "stdout",
     "output_type": "stream",
     "text": [
      "read from user.json: {'name': 'abcd', 'age': 57}\n"
     ]
    }
   ],
   "source": [
    "with open(\"user.json\", \"r\") as f:\n",
    "    loaded = json.load(f)\n",
    "    print(\"read from user.json:\", loaded)"
   ]
  },
  {
   "cell_type": "code",
   "execution_count": 21,
   "id": "c3c333fa",
   "metadata": {},
   "outputs": [],
   "source": [
    "import csv"
   ]
  },
  {
   "cell_type": "code",
   "execution_count": 29,
   "id": "b79242d5",
   "metadata": {},
   "outputs": [
    {
     "name": "stdout",
     "output_type": "stream",
     "text": [
      "data written to people.csv\n"
     ]
    }
   ],
   "source": [
    "with open(\"people.csv\", \"w\", newline='') as file:\n",
    "    writer = csv.writer(file)\n",
    "    writer.writerow([\"Name\", \"Age\"])\n",
    "    for _ in range(2):\n",
    "        name = input(\"Enter your name: \")\n",
    "        age = int(input(\"Enter your age: \"))\n",
    "        writer.writerow([name, age])\n",
    "print(\"data written to people.csv\")"
   ]
  },
  {
   "cell_type": "code",
   "execution_count": 30,
   "id": "dcd9df39",
   "metadata": {},
   "outputs": [
    {
     "name": "stdout",
     "output_type": "stream",
     "text": [
      "['Name', 'Age']\n",
      "['tarun', '34']\n",
      "['hemanth', '34']\n"
     ]
    }
   ],
   "source": [
    "with open(\"people.csv\", \"r\") as file:\n",
    "    reader = csv.reader(file)\n",
    "    for row in reader:\n",
    "        print(row)"
   ]
  },
  {
   "cell_type": "code",
   "execution_count": 31,
   "id": "aac41963",
   "metadata": {},
   "outputs": [],
   "source": [
    "import os"
   ]
  },
  {
   "cell_type": "code",
   "execution_count": 34,
   "id": "57964a94",
   "metadata": {},
   "outputs": [
    {
     "name": "stdout",
     "output_type": "stream",
     "text": [
      "Folder 'D:sample' already exists.\n"
     ]
    }
   ],
   "source": [
    "folder = input(\"Enter folder name  to create: \")\n",
    "if not os.path.exists(folder):\n",
    "    os.makedirs(folder)\n",
    "    print(f\"Folder '{folder}' created.\")\n",
    "else:\n",
    "    print(f\"Folder '{folder}' already exists.\")"
   ]
  },
  {
   "cell_type": "code",
   "execution_count": 37,
   "id": "aef292d0",
   "metadata": {},
   "outputs": [
    {
     "name": "stdout",
     "output_type": "stream",
     "text": [
      "Folder 'D:sample' removed.\n"
     ]
    }
   ],
   "source": [
    "folder_to_remove = input(\"Enter folder name to remove: \")\n",
    "if os.path.exists(folder_to_remove):\n",
    "    os.rmdir(folder_to_remove)\n",
    "    print(f\"Folder '{folder_to_remove}' removed.\")\n",
    "else:\n",
    "    print(f\"Folder '{folder_to_remove}' does not exist.\")"
   ]
  },
  {
   "cell_type": "code",
   "execution_count": 45,
   "id": "51f11404",
   "metadata": {},
   "outputs": [
    {
     "name": "stdout",
     "output_type": "stream",
     "text": [
      "all permutations\n",
      "t a r u n\n",
      "t a r n u\n",
      "t a u r n\n",
      "t a u n r\n",
      "t a n r u\n",
      "t a n u r\n",
      "t r a u n\n",
      "t r a n u\n",
      "t r u a n\n",
      "t r u n a\n",
      "t r n a u\n",
      "t r n u a\n",
      "t u a r n\n",
      "t u a n r\n",
      "t u r a n\n",
      "t u r n a\n",
      "t u n a r\n",
      "t u n r a\n",
      "t n a r u\n",
      "t n a u r\n",
      "t n r a u\n",
      "t n r u a\n",
      "t n u a r\n",
      "t n u r a\n",
      "a t r u n\n",
      "a t r n u\n",
      "a t u r n\n",
      "a t u n r\n",
      "a t n r u\n",
      "a t n u r\n",
      "a r t u n\n",
      "a r t n u\n",
      "a r u t n\n",
      "a r u n t\n",
      "a r n t u\n",
      "a r n u t\n",
      "a u t r n\n",
      "a u t n r\n",
      "a u r t n\n",
      "a u r n t\n",
      "a u n t r\n",
      "a u n r t\n",
      "a n t r u\n",
      "a n t u r\n",
      "a n r t u\n",
      "a n r u t\n",
      "a n u t r\n",
      "a n u r t\n",
      "r t a u n\n",
      "r t a n u\n",
      "r t u a n\n",
      "r t u n a\n",
      "r t n a u\n",
      "r t n u a\n",
      "r a t u n\n",
      "r a t n u\n",
      "r a u t n\n",
      "r a u n t\n",
      "r a n t u\n",
      "r a n u t\n",
      "r u t a n\n",
      "r u t n a\n",
      "r u a t n\n",
      "r u a n t\n",
      "r u n t a\n",
      "r u n a t\n",
      "r n t a u\n",
      "r n t u a\n",
      "r n a t u\n",
      "r n a u t\n",
      "r n u t a\n",
      "r n u a t\n",
      "u t a r n\n",
      "u t a n r\n",
      "u t r a n\n",
      "u t r n a\n",
      "u t n a r\n",
      "u t n r a\n",
      "u a t r n\n",
      "u a t n r\n",
      "u a r t n\n",
      "u a r n t\n",
      "u a n t r\n",
      "u a n r t\n",
      "u r t a n\n",
      "u r t n a\n",
      "u r a t n\n",
      "u r a n t\n",
      "u r n t a\n",
      "u r n a t\n",
      "u n t a r\n",
      "u n t r a\n",
      "u n a t r\n",
      "u n a r t\n",
      "u n r t a\n",
      "u n r a t\n",
      "n t a r u\n",
      "n t a u r\n",
      "n t r a u\n",
      "n t r u a\n",
      "n t u a r\n",
      "n t u r a\n",
      "n a t r u\n",
      "n a t u r\n",
      "n a r t u\n",
      "n a r u t\n",
      "n a u t r\n",
      "n a u r t\n",
      "n r t a u\n",
      "n r t u a\n",
      "n r a t u\n",
      "n r a u t\n",
      "n r u t a\n",
      "n r u a t\n",
      "n u t a r\n",
      "n u t r a\n",
      "n u a t r\n",
      "n u a r t\n",
      "n u r t a\n",
      "n u r a t\n"
     ]
    }
   ],
   "source": [
    "import itertools\n",
    "data = input(\"Enter a character \")\n",
    "permute = list(itertools.permutations(data))\n",
    "print(\"all permutations\")\n",
    "for i in permute:\n",
    "    print(' '.join(i))"
   ]
  },
  {
   "cell_type": "code",
   "execution_count": 50,
   "id": "711130f2",
   "metadata": {},
   "outputs": [
    {
     "name": "stdout",
     "output_type": "stream",
     "text": [
      "Character count: {'t': 1, 'a': 1, 'r': 1, 'u': 1, 'n': 1}\n"
     ]
    }
   ],
   "source": [
    "from collections import Counter\n",
    "text = input(\"Enter a text: \")\n",
    "counter = Counter(text)\n",
    "print(\"Character count:\", dict(counter))"
   ]
  },
  {
   "cell_type": "code",
   "execution_count": 58,
   "id": "3918edbe",
   "metadata": {},
   "outputs": [
    {
     "name": "stdout",
     "output_type": "stream",
     "text": [
      "<Response [200]>\n"
     ]
    }
   ],
   "source": [
    "import requests\n",
    "response = requests.get(\"https://jsonplaceholder.typicode.com/posts/1\")\n",
    "print(response)"
   ]
  },
  {
   "cell_type": "code",
   "execution_count": 59,
   "id": "7004ceac",
   "metadata": {},
   "outputs": [
    {
     "name": "stdout",
     "output_type": "stream",
     "text": [
      "Response status code: 200\n"
     ]
    }
   ],
   "source": [
    "print(\"Response status code:\", response.status_code)"
   ]
  },
  {
   "cell_type": "code",
   "execution_count": 60,
   "id": "c41d3b2e",
   "metadata": {},
   "outputs": [
    {
     "name": "stdout",
     "output_type": "stream",
     "text": [
      "Response JSON content: {'userId': 1, 'id': 1, 'title': 'sunt aut facere repellat provident occaecati excepturi optio reprehenderit', 'body': 'quia et suscipit\\nsuscipit recusandae consequuntur expedita et cum\\nreprehenderit molestiae ut ut quas totam\\nnostrum rerum est autem sunt rem eveniet architecto'}\n"
     ]
    }
   ],
   "source": [
    "print(\"Response JSON content:\", response.json())"
   ]
  },
  {
   "cell_type": "code",
   "execution_count": 65,
   "id": "1a1346fc",
   "metadata": {},
   "outputs": [
    {
     "name": "stdout",
     "output_type": "stream",
     "text": [
      "Response status code: 201\n",
      "Response JSON content: {'title': 'data engineerer ', 'body': 'data engineerer body content for testing purposes wipro day2 training session for the assignment 1', 'userId': 1325, 'id': 101}\n"
     ]
    }
   ],
   "source": [
    "#posting request to a url\n",
    "url = \"https://jsonplaceholder.typicode.com/posts\"\n",
    "data = {\n",
    "    \"title\": \"data engineerer \",\n",
    "    \"body\": \"data engineerer body content for testing purposes wipro day2 training session for the assignment 1\",\n",
    "    \"userId\": 1325\n",
    "}\n",
    "response = requests.post(url, json=data)\n",
    "print(\"Response status code:\", response.status_code)\n",
    "print(\"Response JSON content:\", response.json())"
   ]
  },
  {
   "cell_type": "code",
   "execution_count": null,
   "id": "ae4a63cd",
   "metadata": {},
   "outputs": [],
   "source": []
  }
 ],
 "metadata": {
  "kernelspec": {
   "display_name": "Python (myenv)",
   "language": "python",
   "name": "myenv"
  },
  "language_info": {
   "codemirror_mode": {
    "name": "ipython",
    "version": 3
   },
   "file_extension": ".py",
   "mimetype": "text/x-python",
   "name": "python",
   "nbconvert_exporter": "python",
   "pygments_lexer": "ipython3",
   "version": "3.12.6"
  }
 },
 "nbformat": 4,
 "nbformat_minor": 5
}
