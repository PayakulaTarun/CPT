{
 "cells": [
  {
   "cell_type": "code",
   "execution_count": 16,
   "id": "2aabd7f4",
   "metadata": {},
   "outputs": [],
   "source": [
    "import json"
   ]
  },
  {
   "cell_type": "code",
   "execution_count": 17,
   "id": "ec8e6a84",
   "metadata": {},
   "outputs": [],
   "source": [
    "name = input(\"Enter your name: \")\n",
    "age = int(input(\"Enter your age: \"))"
   ]
  },
  {
   "cell_type": "code",
   "execution_count": 18,
   "id": "25a707a8",
   "metadata": {},
   "outputs": [],
   "source": [
    "user = {\n",
    "    \"name\": name,\n",
    "    \"age\": age\n",
    "    }"
   ]
  },
  {
   "cell_type": "code",
   "execution_count": 19,
   "id": "e40471c0",
   "metadata": {},
   "outputs": [
    {
     "name": "stdout",
     "output_type": "stream",
     "text": [
      "data written to user.json\n"
     ]
    }
   ],
   "source": [
    "with open(\"user.json\", \"w\") as f:\n",
    "    json.dump(user, f)\n",
    "print(\"data written to user.json\")"
   ]
  },
  {
   "cell_type": "code",
   "execution_count": 20,
   "id": "688c5bf2",
   "metadata": {},
   "outputs": [
    {
     "name": "stdout",
     "output_type": "stream",
     "text": [
      "read from user.json: {'name': 'abcd', 'age': 57}\n"
     ]
    }
   ],
   "source": [
    "with open(\"user.json\", \"r\") as f:\n",
    "    loaded = json.load(f)\n",
    "    print(\"read from user.json:\", loaded)"
   ]
  },
  {
   "cell_type": "code",
   "execution_count": 21,
   "id": "c3c333fa",
   "metadata": {},
   "outputs": [],
   "source": [
    "import csv"
   ]
  },
  {
   "cell_type": "code",
   "execution_count": 29,
   "id": "b79242d5",
   "metadata": {},
   "outputs": [
    {
     "name": "stdout",
     "output_type": "stream",
     "text": [
      "data written to people.csv\n"
     ]
    }
   ],
   "source": [
    "with open(\"people.csv\", \"w\", newline='') as file:\n",
    "    writer = csv.writer(file)\n",
    "    writer.writerow([\"Name\", \"Age\"])\n",
    "    for _ in range(2):\n",
    "        name = input(\"Enter your name: \")\n",
    "        age = int(input(\"Enter your age: \"))\n",
    "        writer.writerow([name, age])\n",
    "print(\"data written to people.csv\")"
   ]
  },
  {
   "cell_type": "code",
   "execution_count": 30,
   "id": "dcd9df39",
   "metadata": {},
   "outputs": [
    {
     "name": "stdout",
     "output_type": "stream",
     "text": [
      "['Name', 'Age']\n",
      "['tarun', '34']\n",
      "['hemanth', '34']\n"
     ]
    }
   ],
   "source": [
    "with open(\"people.csv\", \"r\") as file:\n",
    "    reader = csv.reader(file)\n",
    "    for row in reader:\n",
    "        print(row)"
   ]
  },
  {
   "cell_type": "code",
   "execution_count": 31,
   "id": "aac41963",
   "metadata": {},
   "outputs": [],
   "source": [
    "import os"
   ]
  },
  {
   "cell_type": "code",
   "execution_count": 34,
   "id": "57964a94",
   "metadata": {},
   "outputs": [
    {
     "name": "stdout",
     "output_type": "stream",
     "text": [
      "Folder 'D:sample' already exists.\n"
     ]
    }
   ],
   "source": [
    "folder = input(\"Enter folder name  to create: \")\n",
    "if not os.path.exists(folder):\n",
    "    os.makedirs(folder)\n",
    "    print(f\"Folder '{folder}' created.\")\n",
    "else:\n",
    "    print(f\"Folder '{folder}' already exists.\")"
   ]
  },
  {
   "cell_type": "code",
   "execution_count": 37,
   "id": "aef292d0",
   "metadata": {},
   "outputs": [
    {
     "name": "stdout",
     "output_type": "stream",
     "text": [
      "Folder 'D:sample' removed.\n"
     ]
    }
   ],
   "source": [
    "folder_to_remove = input(\"Enter folder name to remove: \")\n",
    "if os.path.exists(folder_to_remove):\n",
    "    os.rmdir(folder_to_remove)\n",
    "    print(f\"Folder '{folder_to_remove}' removed.\")\n",
    "else:\n",
    "    print(f\"Folder '{folder_to_remove}' does not exist.\")"
   ]
  },
  {
   "cell_type": "code",
   "execution_count": null,
   "id": "51f11404",
   "metadata": {},
   "outputs": [],
   "source": []
  }
 ],
 "metadata": {
  "kernelspec": {
   "display_name": "Python (myenv)",
   "language": "python",
   "name": "myenv"
  },
  "language_info": {
   "codemirror_mode": {
    "name": "ipython",
    "version": 3
   },
   "file_extension": ".py",
   "mimetype": "text/x-python",
   "name": "python",
   "nbconvert_exporter": "python",
   "pygments_lexer": "ipython3",
   "version": "3.12.6"
  }
 },
 "nbformat": 4,
 "nbformat_minor": 5
}
