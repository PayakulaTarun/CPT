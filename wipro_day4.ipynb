{
 "cells": [
  {
   "cell_type": "code",
   "execution_count": 3,
   "id": "9293bbd7",
   "metadata": {},
   "outputs": [
    {
     "name": "stdout",
     "output_type": "stream",
     "text": [
      "Enter the marks of 3 students (separated by spaces):\n",
      "Number of students who passed the exam: 3\n",
      "All 3 students passed the exam.\n"
     ]
    }
   ],
   "source": [
    "#Given a set of 3 student's examination marks (in the range from 0 to 100), make a count of the number of students that have passed the exam. A pass is awarded if the students mark is greater than or equal to 35\n",
    "\n",
    "print(\"Enter the marks of 3 students (separated by spaces):\")\n",
    "marks = input().split()\n",
    "marks = [int(mark) for mark in marks]\n",
    "passed_count = sum(1 for mark in marks if mark >= 35)\n",
    "print(f\"Number of students who passed the exam: {passed_count}\")\n",
    "if passed_count == 0:\n",
    "    print(\"No students passed the exam.\")\n",
    "elif passed_count == 1:\n",
    "    print(\"1 student passed the exam.\")\n",
    "elif passed_count == 2:\n",
    "    print(\"2 students passed the exam.\")\n",
    "elif passed_count == 3:\n",
    "    print(\"All 3 students passed the exam.\")\n",
    "else:\n",
    "    print(\"Unexpected count of students passed the exam.\")\n"
   ]
  },
  {
   "cell_type": "code",
   "execution_count": 4,
   "id": "965b575b",
   "metadata": {},
   "outputs": [
    {
     "name": "stdout",
     "output_type": "stream",
     "text": [
      "Enter 5 numbers (separated by spaces):\n",
      "Number of negative numbers: 0\n",
      "Number of non-negative numbers: 5\n"
     ]
    }
   ],
   "source": [
    "# Design an algorithm that reads a list of 5 numbers (both +ve and -ve) and makes a count of the number of negative and non-negative numbers in the list.\n",
    "# Note-0 is considered a non-negative number.\n",
    "\n",
    "print(\"Enter 5 numbers (separated by spaces):\")\n",
    "numbers = input().split()\n",
    "numbers = [int(num) for num in numbers]\n",
    "negative_count = sum(1 for num in numbers if num < 0)\n",
    "non_negative_count = len(numbers) - negative_count\n",
    "print(f\"Number of negative numbers: {negative_count}\")\n",
    "print(f\"Number of non-negative numbers: {non_negative_count}\")\n"
   ]
  },
  {
   "cell_type": "code",
   "execution_count": 7,
   "id": "fec92969",
   "metadata": {},
   "outputs": [
    {
     "name": "stdout",
     "output_type": "stream",
     "text": [
      "Enter a number:\n",
      "The number is even.\n"
     ]
    }
   ],
   "source": [
    "# Design an algorithm that reads a number from the user and tells if it is even or odd or a zero.\n",
    "print(\"Enter a number:\")\n",
    "number = int(input())\n",
    "if number == 0:\n",
    "    print(\"The number is zero.\")\n",
    "elif number % 2 == 0:\n",
    "    print(\"The number is even.\")\n",
    "else:\n",
    "    print(\"The number is odd.\")\n"
   ]
  },
  {
   "cell_type": "code",
   "execution_count": 9,
   "id": "4f8f6524",
   "metadata": {},
   "outputs": [
    {
     "name": "stdout",
     "output_type": "stream",
     "text": [
      "Enter 3 numbers (separated by spaces):\n",
      "The sum of the numbers is: 4\n"
     ]
    }
   ],
   "source": [
    "# Given a set of 3 numbers, design an algorithm that adds these numbers and returns the resultant sum\n",
    "print(\"Enter 3 numbers (separated by spaces):\")\n",
    "numbers = input().split()\n",
    "numbers = [int(num) for num in numbers]\n",
    "resultant_sum = sum(numbers)\n",
    "print(f\"The sum of the numbers is: {resultant_sum}\")\n"
   ]
  },
  {
   "cell_type": "code",
   "execution_count": 16,
   "id": "980547d0",
   "metadata": {},
   "outputs": [
    {
     "name": "stdout",
     "output_type": "stream",
     "text": [
      "Enter a number to find the sum of its digits:\n",
      "The sum of the digits is: 21\n"
     ]
    }
   ],
   "source": [
    "# design an algorithm to find summ of all digits of a number\n",
    "print(\"Enter a number to find the sum of its digits:\")\n",
    "num = int(input())\n",
    "digit_sum = sum(int(digit) for digit in str(num))\n",
    "print(f\"The sum of the digits is: {digit_sum}\")"
   ]
  },
  {
   "cell_type": "code",
   "execution_count": 19,
   "id": "e5bc5f6e",
   "metadata": {},
   "outputs": [
    {
     "name": "stdout",
     "output_type": "stream",
     "text": [
      "Enter the number of rows for the right angle triangle pattern:\n",
      "*\n",
      "**\n",
      "***\n",
      "****\n",
      "*****\n",
      "******\n",
      "*******\n",
      "********\n"
     ]
    }
   ],
   "source": [
    "# design an algorithm to print the right angle triangle pattern\n",
    "print(\"Enter the number of rows for the right angle triangle pattern:\")\n",
    "rows = int(input())\n",
    "for i in range(1, rows + 1):\n",
    "    print('*' * i)"
   ]
  },
  {
   "cell_type": "code",
   "execution_count": 20,
   "id": "aded2630",
   "metadata": {},
   "outputs": [
    {
     "name": "stdout",
     "output_type": "stream",
     "text": [
      "Enter the number of rows for the equilateral triangle pattern:\n",
      "       *\n",
      "      ***\n",
      "     *****\n",
      "    *******\n",
      "   *********\n",
      "  ***********\n",
      " *************\n",
      "***************\n"
     ]
    }
   ],
   "source": [
    "# DESIGN AN ALGORITHM TO PRINT EQUILATERAL TRIANGLE PATTERN\n",
    "print(\"Enter the number of rows for the equilateral triangle pattern:\")\n",
    "n = int(input())\n",
    "for i in range(n):\n",
    "    print(' ' * (n - i - 1) + '*' * (2 * i + 1))"
   ]
  },
  {
   "cell_type": "code",
   "execution_count": 25,
   "id": "08f9de4d",
   "metadata": {},
   "outputs": [
    {
     "name": "stdout",
     "output_type": "stream",
     "text": [
      "Enter the number of rows for the inverted triangle pattern:\n",
      "***********\n",
      " *********\n",
      "  *******\n",
      "   *****\n",
      "    ***\n",
      "     *\n"
     ]
    }
   ],
   "source": [
    "# design an algorithm to print the inverted equalteral triangle pattern\n",
    "print(\"Enter the number of rows for the inverted triangle pattern:\")\n",
    "rows = int(input())\n",
    "for i in range(rows, 0, -1):\n",
    "    print(' ' * (rows - i) + '*' * (2 * i - 1))"
   ]
  },
  {
   "cell_type": "code",
   "execution_count": 26,
   "id": "06ba40b6",
   "metadata": {},
   "outputs": [
    {
     "name": "stdout",
     "output_type": "stream",
     "text": [
      "Enter a decimal number to convert to binary:\n",
      "The binary representation of 5 is 101\n"
     ]
    }
   ],
   "source": [
    "# design an algorithm which accepts a decimal number then displays its corresponding binary number\n",
    "print(\"Enter a decimal number to convert to binary:\")\n",
    "decimal_number = int(input())\n",
    "binary_number = bin(decimal_number)[2:]  # Convert to binary and remove the '0\n",
    "print(f\"The binary representation of {decimal_number} is {binary_number}\")  # Display the binary"
   ]
  },
  {
   "cell_type": "code",
   "execution_count": 27,
   "id": "dd63ccc0",
   "metadata": {},
   "outputs": [
    {
     "name": "stdout",
     "output_type": "stream",
     "text": [
      "Enter a binary number to convert to decimal:\n",
      "The decimal equivalent of binary 10110 is 22\n"
     ]
    }
   ],
   "source": [
    "# design an algorithm which accepts a binery number then displays its corresponding decimal equivalent\n",
    "print(\"Enter a binary number to convert to decimal:\")\n",
    "binary_number = input()\n",
    "decimal_number = int(binary_number, 2)  # Convert binary to decimal\n",
    "print(f\"The decimal equivalent of binary {binary_number} is {decimal_number}\")  # Display the decimal equivalent"
   ]
  },
  {
   "cell_type": "code",
   "execution_count": 30,
   "id": "82b43e59",
   "metadata": {},
   "outputs": [
    {
     "name": "stdout",
     "output_type": "stream",
     "text": [
      "Enter 10 integers (separated by spaces):\n",
      "The sum of all elements in the array is: 45\n"
     ]
    }
   ],
   "source": [
    "# design an algorithm to accept 10 intergers in an array and find the sum of all elements in the array\n",
    "print(\"Enter 10 integers (separated by spaces):\")\n",
    "numbers = input().split()\n",
    "numbers = [int(num) for num in numbers]\n",
    "# convert the input to integers and store them in a list\n",
    "sum_of_elements = sum(numbers)\n",
    "print(f\"The sum of all elements in the array is: {sum_of_elements}\")  # Display the sum of elements"
   ]
  },
  {
   "cell_type": "code",
   "execution_count": null,
   "id": "6b0b10f5",
   "metadata": {},
   "outputs": [],
   "source": []
  }
 ],
 "metadata": {
  "kernelspec": {
   "display_name": "Python (myenv)",
   "language": "python",
   "name": "myenv"
  },
  "language_info": {
   "codemirror_mode": {
    "name": "ipython",
    "version": 3
   },
   "file_extension": ".py",
   "mimetype": "text/x-python",
   "name": "python",
   "nbconvert_exporter": "python",
   "pygments_lexer": "ipython3",
   "version": "3.12.6"
  }
 },
 "nbformat": 4,
 "nbformat_minor": 5
}
