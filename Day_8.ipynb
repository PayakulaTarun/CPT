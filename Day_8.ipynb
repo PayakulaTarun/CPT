{
 "cells": [
  {
   "cell_type": "code",
   "execution_count": 3,
   "id": "2aa3d794",
   "metadata": {},
   "outputs": [
    {
     "name": "stdout",
     "output_type": "stream",
     "text": [
      "Random numbers: [34, 97, 63, 17, 53, 79, 39, 16, 20, 63, 89, 26, 33, 84, 5, 21, 36, 39, 35, 14]\n"
     ]
    }
   ],
   "source": [
    "# [1,4,9,16....100] code to take input of random 20 numbers using list comprehension and print them\n",
    "import random\n",
    "numbers = [random.randint(1, 100) for _ in range(20)]\n",
    "print(\"Random numbers:\", numbers)"
   ]
  },
  {
   "cell_type": "code",
   "execution_count": 6,
   "id": "e20fa429",
   "metadata": {},
   "outputs": [
    {
     "name": "stdout",
     "output_type": "stream",
     "text": [
      "Input numbers: [34, 23, 12, 13, 24, 56, 35, 46, 57, 44]\n"
     ]
    }
   ],
   "source": [
    "# cocr to take input of random 10 numbers using list comprehension and print them\n",
    "n =[ int(x) for x in input(\"Enter 10 numbers separated by space: \").split() if x.isdigit()][:10]\n",
    "print(\"Input numbers:\", n)"
   ]
  },
  {
   "cell_type": "code",
   "execution_count": 8,
   "id": "5ccead8c",
   "metadata": {},
   "outputs": [
    {
     "name": "stdout",
     "output_type": "stream",
     "text": [
      "3x3 Matrix:\n",
      "[3, 2, 5]\n",
      "[4, 3, 2]\n",
      "[5, 3, 4]\n"
     ]
    }
   ],
   "source": [
    "'''code to take user 3 inputs with space saperated and convert the 9 inputs into 3x3 matrix form on display using list comprehension'''\n",
    "matrix = [list(map(int, input(\"Enter 3 numbers separated by space: \").split())) for _ in range(3)]\n",
    "print(\"3x3 Matrix:\")\n",
    "for row in matrix:\n",
    "    print(row)"
   ]
  },
  {
   "cell_type": "code",
   "execution_count": 10,
   "id": "138406ff",
   "metadata": {},
   "outputs": [
    {
     "name": "stdout",
     "output_type": "stream",
     "text": [
      "Binary Matrix:\n",
      "0 1 0\n",
      "0 0 0\n",
      "1 0 1\n"
     ]
    }
   ],
   "source": [
    "'''code to convert dec to binary matrix by considering even and odd manipulations for user defined variables of an nxn matrix where n=3 \n",
    "list [[1, 2, 3], [3, 3, 3], [4, 5, 6]]\n",
    "output:\n",
    "1 0 1\n",
    "1 1 1\n",
    "0 1 0'''\n",
    "n = 3\n",
    "matrix = [[int(input(f\"Enter element [{i+1}][{j+1}]: \")) for j in range(n)] for i in range(n)]\n",
    "binary_matrix = [[1 if (matrix[i][j] % 2 == 0) else 0 for j in range(n)] for i in range(n)]\n",
    "print(\"Binary Matrix:\")\n",
    "for row in binary_matrix:\n",
    "    print(\" \".join(map(str, row)))"
   ]
  },
  {
   "cell_type": "code",
   "execution_count": 12,
   "id": "809c48e7",
   "metadata": {},
   "outputs": [
    {
     "name": "stdout",
     "output_type": "stream",
     "text": [
      "*           * \n",
      "  *       *   \n",
      "    *   *     \n",
      "      *       \n",
      "    *   *     \n",
      "  *       *   \n",
      "*           * \n"
     ]
    }
   ],
   "source": [
    "'''print the pattern\n",
    "* * * * * * *\n",
    "* * *   * * *\n",
    "* *       * *\n",
    "*           *\n",
    "* *       * *\n",
    "* * *   * * *\n",
    "* * * * * * *'''\n",
    "n = 7\n",
    "for i in range(n):\n",
    "    for j in range(n):\n",
    "        if i == j or i + j == n - 1:\n",
    "            print(\"*\", end=\" \")\n",
    "        else:\n",
    "            print(\" \", end=\" \")\n",
    "    print()"
   ]
  },
  {
   "cell_type": "code",
   "execution_count": 14,
   "id": "3e449e7e",
   "metadata": {},
   "outputs": [
    {
     "name": "stdout",
     "output_type": "stream",
     "text": [
      "* * * * * * * \n",
      "* *       * * \n",
      "* * *   * * * \n",
      "* * * * * * * \n",
      "* * *   * * * \n",
      "* *       * * \n",
      "* * * * * * * \n"
     ]
    }
   ],
   "source": [
    "n = 7  # Size of the pattern\n",
    "\n",
    "for i in range(n):\n",
    "    for j in range(n):\n",
    "        if i == j or i + j == n - 1 or i == 0 or i == n - 1:\n",
    "            print(\"*\", end=\" \")\n",
    "        elif (i < j and i + j < n - 1) or (i > j and i + j > n - 1):\n",
    "            print(\" \", end=\" \")\n",
    "        else:\n",
    "            print(\"*\", end=\" \")\n",
    "    print()\n"
   ]
  },
  {
   "cell_type": "code",
   "execution_count": 22,
   "id": "30a7adbb",
   "metadata": {},
   "outputs": [
    {
     "name": "stdout",
     "output_type": "stream",
     "text": [
      "* * * * * * * \n",
      "*   *   *   * \n",
      "* *       * * \n",
      "*           * \n",
      "* *       * * \n",
      "*   *   *   * \n",
      "* * * * * * * \n"
     ]
    }
   ],
   "source": [
    "n = 7  # Size of the square (must be odd for symmetry)\n",
    "\n",
    "for i in range(n):\n",
    "    for j in range(n):\n",
    "        if i == 0 or i == n - 1 or j == 0 or j == n - 1:  # Border of the square\n",
    "            print(\"*\", end=\" \")\n",
    "        elif i + j == n // 2 or j - i == n // 2 or i - j == n // 2 or i + j == (n - 1) + (n // 2):\n",
    "            print(\"*\", end=\" \")  # Edges of the rhombus\n",
    "        else:\n",
    "            print(\" \", end=\" \")\n",
    "    print()\n"
   ]
  },
  {
   "cell_type": "code",
   "execution_count": 27,
   "id": "a1b7ad24",
   "metadata": {},
   "outputs": [
    {
     "name": "stdout",
     "output_type": "stream",
     "text": [
      "[1, 2, 3]\n",
      "[4, 5, 6]\n",
      "[7, 8, 9]\n",
      "[1, 0, 1]\n",
      "[0, 1, 0]\n",
      "[1, 0, 1]\n"
     ]
    }
   ],
   "source": [
    "nums = input(\"Enter 9 numbers separated by space: \").split()\n",
    "nums = [int(num) for num in nums]\n",
    "m=[[nums[i*3+j] for j in range(3)] for i in range(3)]\n",
    "bm=[[0 if m[i][j] % 2 == 0 else 1 for j in range(3)] for i in range(3)]\n",
    "for r in m:\n",
    "    print(r)\n",
    "for r in bm:\n",
    "    print(r)\n"
   ]
  },
  {
   "cell_type": "code",
   "execution_count": 29,
   "id": "d5461928",
   "metadata": {},
   "outputs": [
    {
     "name": "stdout",
     "output_type": "stream",
     "text": [
      "*\n",
      "*  *\n",
      "*    *\n",
      "*      *\n",
      "*    *\n",
      "*  *\n",
      "*\n"
     ]
    }
   ],
   "source": [
    "''' prinat the pattern\n",
    "      *\n",
    "    * * *\n",
    "  * * * * *\n",
    "* * * * * * *\n",
    "  * * * * *\n",
    "    * * *\n",
    "      * '''\n",
    "n = 7  # Size of the pattern (must be odd for symmetry)\n",
    "for i in range(n):\n",
    "    row = ''\n",
    "    for j in range(n):\n",
    "        if i + j == n // 2 or j - i == n // 2 or i - j == n // 2 or i + j == (n - 1) + (n // 2):\n",
    "            row += '* '\n",
    "        else:\n",
    "            row += ' '\n",
    "    print(row.strip())"
   ]
  },
  {
   "cell_type": "code",
   "execution_count": null,
   "id": "6f4b6d85",
   "metadata": {},
   "outputs": [],
   "source": []
  }
 ],
 "metadata": {
  "kernelspec": {
   "display_name": "Python (myenv)",
   "language": "python",
   "name": "myenv"
  },
  "language_info": {
   "codemirror_mode": {
    "name": "ipython",
    "version": 3
   },
   "file_extension": ".py",
   "mimetype": "text/x-python",
   "name": "python",
   "nbconvert_exporter": "python",
   "pygments_lexer": "ipython3",
   "version": "3.12.6"
  }
 },
 "nbformat": 4,
 "nbformat_minor": 5
}
