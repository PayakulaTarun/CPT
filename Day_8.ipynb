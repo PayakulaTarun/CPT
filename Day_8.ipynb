{
 "cells": [
  {
   "cell_type": "code",
   "execution_count": 3,
   "id": "2aa3d794",
   "metadata": {},
   "outputs": [
    {
     "name": "stdout",
     "output_type": "stream",
     "text": [
      "Random numbers: [34, 97, 63, 17, 53, 79, 39, 16, 20, 63, 89, 26, 33, 84, 5, 21, 36, 39, 35, 14]\n"
     ]
    }
   ],
   "source": [
    "# [1,4,9,16....100] code to take input of random 20 numbers using list comprehension and print them\n",
    "import random\n",
    "numbers = [random.randint(1, 100) for _ in range(20)]\n",
    "print(\"Random numbers:\", numbers)"
   ]
  },
  {
   "cell_type": "code",
   "execution_count": 6,
   "id": "e20fa429",
   "metadata": {},
   "outputs": [
    {
     "name": "stdout",
     "output_type": "stream",
     "text": [
      "Input numbers: [34, 23, 12, 13, 24, 56, 35, 46, 57, 44]\n"
     ]
    }
   ],
   "source": [
    "# cocr to take input of random 10 numbers using list comprehension and print them\n",
    "n =[ int(x) for x in input(\"Enter 10 numbers separated by space: \").split() if x.isdigit()][:10]\n",
    "print(\"Input numbers:\", n)"
   ]
  },
  {
   "cell_type": "code",
   "execution_count": null,
   "id": "5ccead8c",
   "metadata": {},
   "outputs": [],
   "source": []
  }
 ],
 "metadata": {
  "kernelspec": {
   "display_name": "Python (myenv)",
   "language": "python",
   "name": "myenv"
  },
  "language_info": {
   "codemirror_mode": {
    "name": "ipython",
    "version": 3
   },
   "file_extension": ".py",
   "mimetype": "text/x-python",
   "name": "python",
   "nbconvert_exporter": "python",
   "pygments_lexer": "ipython3",
   "version": "3.12.6"
  }
 },
 "nbformat": 4,
 "nbformat_minor": 5
}
